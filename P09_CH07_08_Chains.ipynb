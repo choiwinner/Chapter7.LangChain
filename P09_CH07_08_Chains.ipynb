{
 "cells": [
  {
   "cell_type": "markdown",
   "id": "649bf3a5-3916-4eda-b123-dc95f3be6ac5",
   "metadata": {},
   "source": [
    "# Chains"
   ]
  },
  {
   "cell_type": "code",
   "execution_count": 1,
   "id": "d0199cea-43ee-43c4-a579-51f76521d248",
   "metadata": {},
   "outputs": [],
   "source": [
    "from langchain_openai import ChatOpenAI\n",
    "from langchain_core.messages import SystemMessage, HumanMessage\n",
    "from langchain_core.prompts.chat import (\n",
    "    ChatPromptTemplate,\n",
    "    HumanMessagePromptTemplate,\n",
    ")\n",
    "from langchain_core.output_parsers import StrOutputParser"
   ]
  },
  {
   "cell_type": "code",
   "execution_count": 28,
   "id": "f0c1379d-d5c2-4afc-8605-602bc3bb1c00",
   "metadata": {},
   "outputs": [],
   "source": [
    "llm = ChatOpenAI(model=\"gpt-4-turbo\")"
   ]
  },
  {
   "cell_type": "markdown",
   "id": "f5e94406-c0ac-42d3-8d2c-1857cc188aa9",
   "metadata": {},
   "source": [
    "## Single Chain"
   ]
  },
  {
   "cell_type": "code",
   "execution_count": 3,
   "id": "ea047ece-4436-4f1e-9d1b-927b6f7fa4de",
   "metadata": {},
   "outputs": [],
   "source": [
    "# 요약 template\n",
    "human_message_prompt = \"'{text}' 여기서 키워드를 뽑아서 콤마로 구분해줘\"\n",
    "human_message_prompt_template = HumanMessagePromptTemplate.from_template(human_message_prompt)\n",
    "chat_prompt_template = ChatPromptTemplate.from_messages([human_message_prompt_template])"
   ]
  },
  {
   "cell_type": "code",
   "execution_count": 4,
   "id": "56a897e4-17f0-4a69-a552-a9f4ff9518e1",
   "metadata": {},
   "outputs": [],
   "source": [
    "chain = chat_prompt_template | llm | StrOutputParser()"
   ]
  },
  {
   "cell_type": "code",
   "execution_count": 5,
   "id": "4267d4ba-0447-4919-a1f5-30cb301c0859",
   "metadata": {},
   "outputs": [],
   "source": [
    "out = chain.invoke({\"text\": \"LangChain is a framework for developing applications powered by language models.\"})"
   ]
  },
  {
   "cell_type": "code",
   "execution_count": 6,
   "id": "aefb4748-1028-4523-91a7-3a7a6da2c42c",
   "metadata": {},
   "outputs": [
    {
     "data": {
      "text/plain": [
       "'LangChain, framework, developing, applications, language models'"
      ]
     },
     "execution_count": 6,
     "metadata": {},
     "output_type": "execute_result"
    }
   ],
   "source": [
    "out"
   ]
  },
  {
   "cell_type": "markdown",
   "id": "031a4270-366d-47d2-a04b-91968167e170",
   "metadata": {},
   "source": [
    "## Multiple chain"
   ]
  },
  {
   "cell_type": "code",
   "execution_count": 7,
   "id": "7b2e52ba-e08d-4888-9387-e7703d88f8c4",
   "metadata": {},
   "outputs": [],
   "source": [
    "# Reference: https://techcrunch.com/2023/11/29/a-timeline-of-sam-altmans-firing-from-openai-and-the-fallout/?guccounter=1&guce_referrer=aHR0cHM6Ly93d3cuZ29vZ2xlLmNvbS8&guce_referrer_sig=AQAAABj9TJeKpfEe-qMrcSB1ZKRYrZ9NitZC84VpXuK3PdufAb1F4VMgQEyoGiLa3fQVRg3zA4CPhQmn-LKO2SsxoDiQchz292_G80ZxNOx34WQ_3Nad0xa_LtwILVKTBgSyjavB3uERdh8SdYbuZ0CSuifL21FfXxjD4Ldv3VlKdm0x\n",
    "text = \"\"\"\n",
    "In a dramatic turn of events late Friday, ex-Y Combinator president Sam Altman was fired as CEO of AI startup OpenAI, the company behind viral AI hits like ChatGPT, GPT-4 and DALL-E 3, by OpenAI’s board of directors. Then, the company’s longtime president and co-founder, Greg Brockman, resigned — as did three senior OpenAI researchers. And the fallout continues.\n",
    "\n",
    "TIP TECHCRUNCH\n",
    "\n",
    "Do you work at OpenAI and know more about Sam Altman’s departure? Get in touch with TechCrunch.\n",
    "It’s a fast-moving situation that we’re still trying to get to the bottom of. No doubt more will become clear as time goes on. To make it easier to follow all that’s happened in the meantime, though, we’ve put together a timeline; we’ll do our best to keep it current.\n",
    "\n",
    "Timeline of Sam Altman’s firing from OpenAI\n",
    "\n",
    "November 29\n",
    "\n",
    "Microsoft gains a board observer\n",
    "\n",
    "Microsoft will gain representation on the new initial board of directors in the form of a non-voting observer, OpenAI announced. It wasn’t immediately clear who this observer might be — only that they won’t have an official vote in board business.\n",
    "\n",
    "November 21\n",
    "\n",
    "Sam Altman, OpenAI reach agreement on return as CEO and ‘initial’ new board\n",
    "\n",
    "In a sudden late announcement, OpenAI revealed that it and Altman “have reached an agreement in principle” for him to return as the company’s CEO. In addition to Altman’s return, its new “initial” board will include former Salesforce chief executive Bret Taylor, former US Secretary of the Treasury Larry Summers and Quora founder Adam D’Angelo.\n",
    "\n",
    "\n",
    "Altman also posted about the new deal, giving some insight into the roller coaster that we’ve all been riding since his firing was revealed Friday. In his words, his decision to join Microsoft on Sunday “was the best path for me and the team.” Since then, the new board’s composition and Microsoft’s support appear to have been enough to bring him back to the AI company he co-founded.\n",
    "\n",
    "Altman and board in talks\n",
    "\n",
    "OpenAI’s board of directors is reportedly in talks with Sam Altman, ex-Y Combinator president and an OpenAI co-founder, to return to OpenAI as CEO as soon as this week. That’s according to Bloomberg, which in a brief — citing sources close to the matter — said that discussions are happening between Quora CEO Adam D’Angelo, one current member of the OpenAI board, and Altman — and possibly other board members as well.\n",
    "\n",
    "Board tensions boil over\n",
    "\n",
    "The New York Times reports that, before his ousting, Sam Altman made a move to push out board member Helen Toner because he thought a paper she had co-written was overly critical of OpenAI. That, among other issues, led to OpenAI’s current predicament. Speaking of, The Times indicates that negotiations to hire Altman back continue — but that one major sticking point remaining is “guardrails” meant to improve Altman’s communication with the board.\n",
    "\n",
    "\n",
    "—\n",
    "\n",
    "November 20\n",
    "\n",
    "Altman joins Microsoft\n",
    "\n",
    "Sam Altman, Greg Brockman and colleagues announce that they’ll join Microsoft to lead a new AI research team. Nadella leaves the door open to other OpenAI staffers, saying that they’ll be given the resources they need should they choose to join.\n",
    "\n",
    "Sutskever’s mea culpa\n",
    "\n",
    "Sutskever publishes a post on X suggesting that he regrets his decision to remove Altman and that he’ll do everything in his power to reinstate Altman as CEO.\n",
    "\n",
    "\n",
    "Employees threaten to resign\n",
    "\n",
    "Nearly 500 of OpenAI’s roughly 770 employees — including, remarkably, Sutskever — publish a letter saying that they might quit unless the startup’s board resigns and reappoints the ousted Altman. Later Monday, that number climbed to over 650.\n",
    "\n",
    "Altman and Brockman considering return\n",
    "\n",
    "As reported by The Verge, Altman’s move to Microsoft isn’t a done deal — and both Altman and Brockman are still open to returning to OpenAI. That is, if the remaining board members who initially fired him step aside.\n",
    "\n",
    "OpenAI board considers merger\n",
    "\n",
    "OpenAI’s board of directors approached Dario Amodei, the co-founder and CEO of rival large-language model developer Anthropic, about a potential merger of the two companies, The Information reports. The approach was part of an effort by OpenAI to persuade Amodei to replace Altman as CEO — but Amodei quickly turned down the CEO offer.\n",
    "\n",
    "—\n",
    "\n",
    "November 19\n",
    "\n",
    "Altman to meet at OpenAI HQ\n",
    "\n",
    "According to The Information, Altman is expected to meet at OpenAI’s San Francisco headquarters as executives at OpenAI push to have him reinstated as CEO. Brockman was invited to join — but it’s unclear whether he’ll take execs up on that invitation.\n",
    "\n",
    "Board negotiations hit a snag\n",
    "\n",
    "Bloomberg reports that Lightcap and Murati, among others, are pushing the board to reinstate Altman. But unsurprisingly, the directors are resisting. As of midday Sunday, the board hadn’t resigned out of concern over who could replace them, and were vetting candidates. One possible new addition could be Salesforce co-CEO Bret Taylor.\n",
    "\n",
    "Altman out, Shear in\n",
    "\n",
    "Altman won’t be returning as CEO, according to a report in The Information citing an internal memo sent by Sutskever. As the search for a new permanent CEO continues, OpenAI has appointed Emmett Shear, the co-founder of video streaming site Twitch, as interim CEO — replacing Murati.\n",
    "\n",
    "—\n",
    "\n",
    "November 18\n",
    "\n",
    "“Not … in response to malfeasance”\n",
    "\n",
    "In an internal memo obtained by Axios sent Saturday morning, OpenAI COO Brad Lightcap said yesterday’s announcement “took [the management team] by surprise” and that management had had “multiple conversations with the board to try to better understand the reasons and process behind their decision.” Discussions were ongoing as of Saturday morning, per the memo.\n",
    "\n",
    "“We can say definitively that the board’s decision was not made in response to malfeasance or anything related to our financial, business, safety, or security/privacy practices,” Lightcap added. “This was a breakdown in communication between Sam and the board … We still share your concerns about how the process has been handled, are working to resolve the situation, and will provide updates as we’re able.”\n",
    "\n",
    "OpenAI’s funding in jeopardy\n",
    "\n",
    "The planned sale of OpenAI employee shares that would value the startup at about $86 billion could be in jeopardy. The Information, speaking to three sources formerly with the company, reports that they no longer expect the sale — led by Thrive Capital — to happen, or, if it does, to come with a lesser valuation because of the recent turn of events.\n",
    "\n",
    "Altman planning new venture\n",
    "\n",
    "Altman has been telling investors that he’s planning to launch a new venture, according to The Information. Brockman is expected to join the effort — whatever form it takes. (Possibly an AI chip startup.)\n",
    "\n",
    "\n",
    "Investors pushing for Altman’s return\n",
    "\n",
    "Investors — furious at the turn of events — are reportedly exerting pressure on OpenAI’s board to reinstate Altman, going so far as to recruit Microsoft. Nadella is said to be sympathetic.\n",
    "\n",
    "Board agrees to reverse course — in principle\n",
    "\n",
    "The Verge reports that the board agreed in principle to resign and to allow Altman and Brockman to return. It waffled, however, missing a deadline yesterday by which many OpenAI staffers were set to leave the company. Altman is said to be ambivalent about coming back and asking for “significant” governance changes.\n",
    "\n",
    "—\n",
    "\n",
    "November 17\n",
    "\n",
    "Brockman demoted\n",
    "\n",
    "Brockman says he got a text from Sutskever shortly after noon on Friday asking for a quick call. After sending a Google Meet link, Brockman was told that he was being removed from the board as chairman “but was vital to the company and would retain his role” as president, and that Altman had been fired.\n",
    "\n",
    "Altman’s firing publicly announced\n",
    "\n",
    "OpenAI published a post on its blog announcing the executive shake-up. The company’s management team was aware shortly after.\n",
    "\n",
    "\n",
    "All-hands meeting\n",
    "\n",
    "OpenAI held an all-hands meeting Friday afternoon during which Sutskever defended Altman’s ouster. He dismissed suggestions that pushing Altman out amounted to a “hostile takeover,” and claimed that it was necessary to protect OpenAI’s mission of “making AI beneficial to humanity.”\n",
    "\n",
    "Microsoft releases a statement\n",
    "\n",
    "Satya Nadella, the CEO of Microsoft, a major investor in — and partner with — OpenAI, published a statement about Altman’s firing:\n",
    "\n",
    "“As you saw at Microsoft Ignite this week, we’re continuing to rapidly innovate for this era of AI, with over 100 announcements across the full tech stack from AI systems, models and tools in Azure, to Copilot. Most importantly, we’re committed to delivering all of this to our customers while building for the future. We have a long-term agreement with OpenAI with full access to everything we need to deliver on our innovation agenda and an exciting product roadmap; and remain committed to our partnership, and to Mira and the team. Together, we will continue to deliver the meaningful benefits of this technology to the world.”\n",
    "\n",
    "Brockman quits\n",
    "\n",
    "Brockman announced his resignation from OpenAI, citing “today’s news.” After sending a memo internally, he published the text on X.\n",
    "\n",
    "\n",
    "Senior OpenAI researchers resign\n",
    "\n",
    "Three senior OpenAI researchers resign after Brockman, including the director of research Jakub Pachocki and head of preparedness Aleksander Madry.\n",
    "\n",
    "—\n",
    "\n",
    "November 16\n",
    "\n",
    "Ilya Sutskever schedules call with Altman\n",
    "\n",
    "According to a post on X (formerly Twitter) from Brockman, Ilya Sutskever, the chief scientist at OpenAI and a co-founder, texted Altman on Thursday evening about scheduling a Friday noon call.\n",
    "\n",
    "\n",
    "Murati told of Altman’s firing\n",
    "\n",
    "Brockman alleges that Mira Murati, OpenAI’s CTO and now interim CEO, was informed on Thursday night that Altman would be fired.\n",
    "\"\"\""
   ]
  },
  {
   "cell_type": "code",
   "execution_count": 8,
   "id": "f8979764-cd2e-4bcb-a498-4fab71ec2a3b",
   "metadata": {},
   "outputs": [],
   "source": [
    "# 요약 template\n",
    "summarize_human_message_prompt = \"'{text}' 이 내용 bullet point 사용해서 3줄 요약해줘\"\n",
    "summarize_human_message_prompt_template = HumanMessagePromptTemplate.from_template(summarize_human_message_prompt)\n",
    "summarize_chat_prompt_template = ChatPromptTemplate.from_messages([summarize_human_message_prompt])"
   ]
  },
  {
   "cell_type": "code",
   "execution_count": 9,
   "id": "4dc3904c-cd6d-4c3c-8425-0e688c4132b1",
   "metadata": {},
   "outputs": [],
   "source": [
    "# 번역 template\n",
    "translate_human_message_prompt = \"'{text}' 이 내용 한국어로 번역해줘. 번역된 내용만 응답해줘\"\n",
    "translate_human_message_prompt_template = HumanMessagePromptTemplate.from_template(translate_human_message_prompt)\n",
    "translate_chat_prompt_template = ChatPromptTemplate.from_messages([translate_human_message_prompt_template])"
   ]
  },
  {
   "cell_type": "code",
   "execution_count": 10,
   "id": "c0bf8468-46b6-49b6-a415-67c63a9283da",
   "metadata": {},
   "outputs": [],
   "source": [
    "summarize_chain = summarize_chat_prompt_template | llm | StrOutputParser()\n",
    "\n",
    "summarize_translate_chain = (\n",
    "    {\"text\": summarize_chain}\n",
    "    | translate_chat_prompt_template\n",
    "    | llm\n",
    "    | StrOutputParser() )"
   ]
  },
  {
   "cell_type": "code",
   "execution_count": 11,
   "id": "88fdf223-bf32-4593-a3d2-d1aa1bad0c3c",
   "metadata": {},
   "outputs": [],
   "source": [
    "result = summarize_translate_chain.invoke({\"text\": text})"
   ]
  },
  {
   "cell_type": "code",
   "execution_count": 12,
   "id": "df4439be-0773-4c64-b9ec-b34487065c22",
   "metadata": {},
   "outputs": [
    {
     "name": "stdout",
     "output_type": "stream",
     "text": [
      "- **샘 알트만의 해고와 그 후:** 샘 알트만이 OpenAI의 CEO에서 갑작스럽게 해고되었고, 이로 인해 공동 창립자인 그렉 브록먼과 여러 고위 연구원이 사임했다.\n",
      "- **직원 및 투자자 반응:** 거의 500명의 OpenAI 직원들이 알트만이 복직되지 않으면 사임하겠다고 위협했으며, 투자자들은 이사회를 압박하여 그의 복귀를 요청했다.\n",
      "- **협상과 복귀:** 알트만과 OpenAI는 새로운 이사회 구성과 함께 그가 CEO로 복귀하는 협정에 도달했으며, 이사회에는 전 Salesforce CEO 브렛 테일러와 같은 인물이 포함되었다.\n"
     ]
    }
   ],
   "source": [
    "print(result)"
   ]
  },
  {
   "cell_type": "markdown",
   "id": "2c78b15a-2f12-4195-8ad7-2a4211852637",
   "metadata": {},
   "source": [
    "## Built-in Chains"
   ]
  },
  {
   "cell_type": "markdown",
   "id": "6095ec6b-597e-4539-9279-8772c77f7410",
   "metadata": {},
   "source": [
    "- 현재 langchain v0.2에는 정리된 페이지가 없음\n",
    "- https://python.langchain.com/v0.1/docs/modules/chains/"
   ]
  },
  {
   "cell_type": "markdown",
   "id": "3653a104-6616-408d-a407-71beaffe1ce4",
   "metadata": {},
   "source": [
    "![sql](./res/sql_usecase.png)"
   ]
  },
  {
   "cell_type": "code",
   "execution_count": 13,
   "id": "87ec54d8-95e4-449a-93a6-d498783ae22e",
   "metadata": {
    "scrolled": true
   },
   "outputs": [
    {
     "name": "stdout",
     "output_type": "stream",
     "text": [
      "Requirement already satisfied: langchain-experimental in /Users/user/miniconda3/envs/fc-ai-signature/lib/python3.11/site-packages (0.0.60)\n",
      "Requirement already satisfied: langchain-community<0.3,>=0.2 in /Users/user/miniconda3/envs/fc-ai-signature/lib/python3.11/site-packages (from langchain-experimental) (0.2.4)\n",
      "Requirement already satisfied: langchain-core<0.3,>=0.2 in /Users/user/miniconda3/envs/fc-ai-signature/lib/python3.11/site-packages (from langchain-experimental) (0.2.5)\n",
      "Requirement already satisfied: PyYAML>=5.3 in /Users/user/miniconda3/envs/fc-ai-signature/lib/python3.11/site-packages (from langchain-community<0.3,>=0.2->langchain-experimental) (6.0.1)\n",
      "Requirement already satisfied: SQLAlchemy<3,>=1.4 in /Users/user/miniconda3/envs/fc-ai-signature/lib/python3.11/site-packages (from langchain-community<0.3,>=0.2->langchain-experimental) (2.0.30)\n",
      "Requirement already satisfied: aiohttp<4.0.0,>=3.8.3 in /Users/user/miniconda3/envs/fc-ai-signature/lib/python3.11/site-packages (from langchain-community<0.3,>=0.2->langchain-experimental) (3.9.5)\n",
      "Requirement already satisfied: dataclasses-json<0.7,>=0.5.7 in /Users/user/miniconda3/envs/fc-ai-signature/lib/python3.11/site-packages (from langchain-community<0.3,>=0.2->langchain-experimental) (0.6.6)\n",
      "Requirement already satisfied: langchain<0.3.0,>=0.2.0 in /Users/user/miniconda3/envs/fc-ai-signature/lib/python3.11/site-packages (from langchain-community<0.3,>=0.2->langchain-experimental) (0.2.3)\n",
      "Requirement already satisfied: langsmith<0.2.0,>=0.1.0 in /Users/user/miniconda3/envs/fc-ai-signature/lib/python3.11/site-packages (from langchain-community<0.3,>=0.2->langchain-experimental) (0.1.75)\n",
      "Requirement already satisfied: numpy<2,>=1 in /Users/user/miniconda3/envs/fc-ai-signature/lib/python3.11/site-packages (from langchain-community<0.3,>=0.2->langchain-experimental) (1.26.4)\n",
      "Requirement already satisfied: requests<3,>=2 in /Users/user/miniconda3/envs/fc-ai-signature/lib/python3.11/site-packages (from langchain-community<0.3,>=0.2->langchain-experimental) (2.32.2)\n",
      "Requirement already satisfied: tenacity<9.0.0,>=8.1.0 in /Users/user/miniconda3/envs/fc-ai-signature/lib/python3.11/site-packages (from langchain-community<0.3,>=0.2->langchain-experimental) (8.3.0)\n",
      "Requirement already satisfied: jsonpatch<2.0,>=1.33 in /Users/user/miniconda3/envs/fc-ai-signature/lib/python3.11/site-packages (from langchain-core<0.3,>=0.2->langchain-experimental) (1.33)\n",
      "Requirement already satisfied: packaging<24.0,>=23.2 in /Users/user/miniconda3/envs/fc-ai-signature/lib/python3.11/site-packages (from langchain-core<0.3,>=0.2->langchain-experimental) (23.2)\n",
      "Requirement already satisfied: pydantic<3,>=1 in /Users/user/miniconda3/envs/fc-ai-signature/lib/python3.11/site-packages (from langchain-core<0.3,>=0.2->langchain-experimental) (2.7.1)\n",
      "Requirement already satisfied: aiosignal>=1.1.2 in /Users/user/miniconda3/envs/fc-ai-signature/lib/python3.11/site-packages (from aiohttp<4.0.0,>=3.8.3->langchain-community<0.3,>=0.2->langchain-experimental) (1.3.1)\n",
      "Requirement already satisfied: attrs>=17.3.0 in /Users/user/miniconda3/envs/fc-ai-signature/lib/python3.11/site-packages (from aiohttp<4.0.0,>=3.8.3->langchain-community<0.3,>=0.2->langchain-experimental) (23.2.0)\n",
      "Requirement already satisfied: frozenlist>=1.1.1 in /Users/user/miniconda3/envs/fc-ai-signature/lib/python3.11/site-packages (from aiohttp<4.0.0,>=3.8.3->langchain-community<0.3,>=0.2->langchain-experimental) (1.4.1)\n",
      "Requirement already satisfied: multidict<7.0,>=4.5 in /Users/user/miniconda3/envs/fc-ai-signature/lib/python3.11/site-packages (from aiohttp<4.0.0,>=3.8.3->langchain-community<0.3,>=0.2->langchain-experimental) (6.0.5)\n",
      "Requirement already satisfied: yarl<2.0,>=1.0 in /Users/user/miniconda3/envs/fc-ai-signature/lib/python3.11/site-packages (from aiohttp<4.0.0,>=3.8.3->langchain-community<0.3,>=0.2->langchain-experimental) (1.9.4)\n",
      "Requirement already satisfied: marshmallow<4.0.0,>=3.18.0 in /Users/user/miniconda3/envs/fc-ai-signature/lib/python3.11/site-packages (from dataclasses-json<0.7,>=0.5.7->langchain-community<0.3,>=0.2->langchain-experimental) (3.21.3)\n",
      "Requirement already satisfied: typing-inspect<1,>=0.4.0 in /Users/user/miniconda3/envs/fc-ai-signature/lib/python3.11/site-packages (from dataclasses-json<0.7,>=0.5.7->langchain-community<0.3,>=0.2->langchain-experimental) (0.9.0)\n",
      "Requirement already satisfied: jsonpointer>=1.9 in /Users/user/miniconda3/envs/fc-ai-signature/lib/python3.11/site-packages (from jsonpatch<2.0,>=1.33->langchain-core<0.3,>=0.2->langchain-experimental) (2.4)\n",
      "Requirement already satisfied: langchain-text-splitters<0.3.0,>=0.2.0 in /Users/user/miniconda3/envs/fc-ai-signature/lib/python3.11/site-packages (from langchain<0.3.0,>=0.2.0->langchain-community<0.3,>=0.2->langchain-experimental) (0.2.1)\n",
      "Requirement already satisfied: orjson<4.0.0,>=3.9.14 in /Users/user/miniconda3/envs/fc-ai-signature/lib/python3.11/site-packages (from langsmith<0.2.0,>=0.1.0->langchain-community<0.3,>=0.2->langchain-experimental) (3.10.3)\n",
      "Requirement already satisfied: annotated-types>=0.4.0 in /Users/user/miniconda3/envs/fc-ai-signature/lib/python3.11/site-packages (from pydantic<3,>=1->langchain-core<0.3,>=0.2->langchain-experimental) (0.7.0)\n",
      "Requirement already satisfied: pydantic-core==2.18.2 in /Users/user/miniconda3/envs/fc-ai-signature/lib/python3.11/site-packages (from pydantic<3,>=1->langchain-core<0.3,>=0.2->langchain-experimental) (2.18.2)\n",
      "Requirement already satisfied: typing-extensions>=4.6.1 in /Users/user/miniconda3/envs/fc-ai-signature/lib/python3.11/site-packages (from pydantic<3,>=1->langchain-core<0.3,>=0.2->langchain-experimental) (4.11.0)\n",
      "Requirement already satisfied: charset-normalizer<4,>=2 in /Users/user/miniconda3/envs/fc-ai-signature/lib/python3.11/site-packages (from requests<3,>=2->langchain-community<0.3,>=0.2->langchain-experimental) (3.3.2)\n",
      "Requirement already satisfied: idna<4,>=2.5 in /Users/user/miniconda3/envs/fc-ai-signature/lib/python3.11/site-packages (from requests<3,>=2->langchain-community<0.3,>=0.2->langchain-experimental) (3.7)\n",
      "Requirement already satisfied: urllib3<3,>=1.21.1 in /Users/user/miniconda3/envs/fc-ai-signature/lib/python3.11/site-packages (from requests<3,>=2->langchain-community<0.3,>=0.2->langchain-experimental) (2.2.1)\n",
      "Requirement already satisfied: certifi>=2017.4.17 in /Users/user/miniconda3/envs/fc-ai-signature/lib/python3.11/site-packages (from requests<3,>=2->langchain-community<0.3,>=0.2->langchain-experimental) (2024.2.2)\n",
      "Requirement already satisfied: mypy-extensions>=0.3.0 in /Users/user/miniconda3/envs/fc-ai-signature/lib/python3.11/site-packages (from typing-inspect<1,>=0.4.0->dataclasses-json<0.7,>=0.5.7->langchain-community<0.3,>=0.2->langchain-experimental) (1.0.0)\n"
     ]
    }
   ],
   "source": [
    "!pip install langchain-experimental"
   ]
  },
  {
   "cell_type": "markdown",
   "id": "f7619167-0df2-496b-8757-5f3407fa4b7f",
   "metadata": {},
   "source": [
    "### 실습준비\n",
    "\n",
    "* [this file](https://raw.githubusercontent.com/lerocha/chinook-database/master/ChinookDatabase/DataSources/Chinook_Sqlite.sql) 이 파일을 data 디렉토리 하위에 저장 `data/Chinook_Sqlite.sql`\n",
    "* `sqlite3 Chinook.db` 실행\n",
    "* `.read Chinook_Sqlite.sql` 실행\n",
    "* `SELECT * FROM Artist LIMIT 10;` 실행 으로 테스트\n",
    "* `.exit` 또는 `.quit`으로 sqlite3 종료 \n",
    "\n",
    "Mac의 경우 기본적으로 sqlite3가 설치되어 있고, 만약 설치가 되어있지 않은 경우 공식 홈페이지에서 설치 [link](https://www.sqlite.org/index.html)"
   ]
  },
  {
   "cell_type": "code",
   "execution_count": 14,
   "id": "385234d3-a4a8-4a1d-8c99-6c07120b2ef8",
   "metadata": {},
   "outputs": [],
   "source": [
    "from langchain_community.utilities import SQLDatabase"
   ]
  },
  {
   "cell_type": "code",
   "execution_count": 15,
   "id": "298819d1-db23-4d67-8023-c0fda42409fe",
   "metadata": {},
   "outputs": [],
   "source": [
    "db = SQLDatabase.from_uri(\"sqlite:///data/Chinook.db\")"
   ]
  },
  {
   "cell_type": "code",
   "execution_count": 16,
   "id": "2ae2bcde-bb75-4fef-b06e-61d368828a07",
   "metadata": {},
   "outputs": [
    {
     "data": {
      "text/plain": [
       "['Album',\n",
       " 'Artist',\n",
       " 'Customer',\n",
       " 'Employee',\n",
       " 'Genre',\n",
       " 'Invoice',\n",
       " 'InvoiceLine',\n",
       " 'MediaType',\n",
       " 'Playlist',\n",
       " 'PlaylistTrack',\n",
       " 'Track']"
      ]
     },
     "execution_count": 16,
     "metadata": {},
     "output_type": "execute_result"
    }
   ],
   "source": [
    "db.get_usable_table_names()"
   ]
  },
  {
   "cell_type": "code",
   "execution_count": 17,
   "id": "d0ea261a-a102-4e2e-a065-912e9902483f",
   "metadata": {
    "scrolled": true
   },
   "outputs": [
    {
     "name": "stdout",
     "output_type": "stream",
     "text": [
      "\n",
      "CREATE TABLE \"Album\" (\n",
      "\t\"AlbumId\" INTEGER NOT NULL, \n",
      "\t\"Title\" NVARCHAR(160) NOT NULL, \n",
      "\t\"ArtistId\" INTEGER NOT NULL, \n",
      "\tPRIMARY KEY (\"AlbumId\"), \n",
      "\tFOREIGN KEY(\"ArtistId\") REFERENCES \"Artist\" (\"ArtistId\")\n",
      ")\n",
      "\n",
      "/*\n",
      "3 rows from Album table:\n",
      "AlbumId\tTitle\tArtistId\n",
      "1\tFor Those About To Rock We Salute You\t1\n",
      "2\tBalls to the Wall\t2\n",
      "3\tRestless and Wild\t2\n",
      "*/\n",
      "\n",
      "\n",
      "CREATE TABLE \"Artist\" (\n",
      "\t\"ArtistId\" INTEGER NOT NULL, \n",
      "\t\"Name\" NVARCHAR(120), \n",
      "\tPRIMARY KEY (\"ArtistId\")\n",
      ")\n",
      "\n",
      "/*\n",
      "3 rows from Artist table:\n",
      "ArtistId\tName\n",
      "1\tAC/DC\n",
      "2\tAccept\n",
      "3\tAerosmith\n",
      "*/\n",
      "\n",
      "\n",
      "CREATE TABLE \"Customer\" (\n",
      "\t\"CustomerId\" INTEGER NOT NULL, \n",
      "\t\"FirstName\" NVARCHAR(40) NOT NULL, \n",
      "\t\"LastName\" NVARCHAR(20) NOT NULL, \n",
      "\t\"Company\" NVARCHAR(80), \n",
      "\t\"Address\" NVARCHAR(70), \n",
      "\t\"City\" NVARCHAR(40), \n",
      "\t\"State\" NVARCHAR(40), \n",
      "\t\"Country\" NVARCHAR(40), \n",
      "\t\"PostalCode\" NVARCHAR(10), \n",
      "\t\"Phone\" NVARCHAR(24), \n",
      "\t\"Fax\" NVARCHAR(24), \n",
      "\t\"Email\" NVARCHAR(60) NOT NULL, \n",
      "\t\"SupportRepId\" INTEGER, \n",
      "\tPRIMARY KEY (\"CustomerId\"), \n",
      "\tFOREIGN KEY(\"SupportRepId\") REFERENCES \"Employee\" (\"EmployeeId\")\n",
      ")\n",
      "\n",
      "/*\n",
      "3 rows from Customer table:\n",
      "CustomerId\tFirstName\tLastName\tCompany\tAddress\tCity\tState\tCountry\tPostalCode\tPhone\tFax\tEmail\tSupportRepId\n",
      "1\tLuís\tGonçalves\tEmbraer - Empresa Brasileira de Aeronáutica S.A.\tAv. Brigadeiro Faria Lima, 2170\tSão José dos Campos\tSP\tBrazil\t12227-000\t+55 (12) 3923-5555\t+55 (12) 3923-5566\tluisg@embraer.com.br\t3\n",
      "2\tLeonie\tKöhler\tNone\tTheodor-Heuss-Straße 34\tStuttgart\tNone\tGermany\t70174\t+49 0711 2842222\tNone\tleonekohler@surfeu.de\t5\n",
      "3\tFrançois\tTremblay\tNone\t1498 rue Bélanger\tMontréal\tQC\tCanada\tH2G 1A7\t+1 (514) 721-4711\tNone\tftremblay@gmail.com\t3\n",
      "*/\n",
      "\n",
      "\n",
      "CREATE TABLE \"Employee\" (\n",
      "\t\"EmployeeId\" INTEGER NOT NULL, \n",
      "\t\"LastName\" NVARCHAR(20) NOT NULL, \n",
      "\t\"FirstName\" NVARCHAR(20) NOT NULL, \n",
      "\t\"Title\" NVARCHAR(30), \n",
      "\t\"ReportsTo\" INTEGER, \n",
      "\t\"BirthDate\" DATETIME, \n",
      "\t\"HireDate\" DATETIME, \n",
      "\t\"Address\" NVARCHAR(70), \n",
      "\t\"City\" NVARCHAR(40), \n",
      "\t\"State\" NVARCHAR(40), \n",
      "\t\"Country\" NVARCHAR(40), \n",
      "\t\"PostalCode\" NVARCHAR(10), \n",
      "\t\"Phone\" NVARCHAR(24), \n",
      "\t\"Fax\" NVARCHAR(24), \n",
      "\t\"Email\" NVARCHAR(60), \n",
      "\tPRIMARY KEY (\"EmployeeId\"), \n",
      "\tFOREIGN KEY(\"ReportsTo\") REFERENCES \"Employee\" (\"EmployeeId\")\n",
      ")\n",
      "\n",
      "/*\n",
      "3 rows from Employee table:\n",
      "EmployeeId\tLastName\tFirstName\tTitle\tReportsTo\tBirthDate\tHireDate\tAddress\tCity\tState\tCountry\tPostalCode\tPhone\tFax\tEmail\n",
      "1\tAdams\tAndrew\tGeneral Manager\tNone\t1962-02-18 00:00:00\t2002-08-14 00:00:00\t11120 Jasper Ave NW\tEdmonton\tAB\tCanada\tT5K 2N1\t+1 (780) 428-9482\t+1 (780) 428-3457\tandrew@chinookcorp.com\n",
      "2\tEdwards\tNancy\tSales Manager\t1\t1958-12-08 00:00:00\t2002-05-01 00:00:00\t825 8 Ave SW\tCalgary\tAB\tCanada\tT2P 2T3\t+1 (403) 262-3443\t+1 (403) 262-3322\tnancy@chinookcorp.com\n",
      "3\tPeacock\tJane\tSales Support Agent\t2\t1973-08-29 00:00:00\t2002-04-01 00:00:00\t1111 6 Ave SW\tCalgary\tAB\tCanada\tT2P 5M5\t+1 (403) 262-3443\t+1 (403) 262-6712\tjane@chinookcorp.com\n",
      "*/\n",
      "\n",
      "\n",
      "CREATE TABLE \"Genre\" (\n",
      "\t\"GenreId\" INTEGER NOT NULL, \n",
      "\t\"Name\" NVARCHAR(120), \n",
      "\tPRIMARY KEY (\"GenreId\")\n",
      ")\n",
      "\n",
      "/*\n",
      "3 rows from Genre table:\n",
      "GenreId\tName\n",
      "1\tRock\n",
      "2\tJazz\n",
      "3\tMetal\n",
      "*/\n",
      "\n",
      "\n",
      "CREATE TABLE \"Invoice\" (\n",
      "\t\"InvoiceId\" INTEGER NOT NULL, \n",
      "\t\"CustomerId\" INTEGER NOT NULL, \n",
      "\t\"InvoiceDate\" DATETIME NOT NULL, \n",
      "\t\"BillingAddress\" NVARCHAR(70), \n",
      "\t\"BillingCity\" NVARCHAR(40), \n",
      "\t\"BillingState\" NVARCHAR(40), \n",
      "\t\"BillingCountry\" NVARCHAR(40), \n",
      "\t\"BillingPostalCode\" NVARCHAR(10), \n",
      "\t\"Total\" NUMERIC(10, 2) NOT NULL, \n",
      "\tPRIMARY KEY (\"InvoiceId\"), \n",
      "\tFOREIGN KEY(\"CustomerId\") REFERENCES \"Customer\" (\"CustomerId\")\n",
      ")\n",
      "\n",
      "/*\n",
      "3 rows from Invoice table:\n",
      "InvoiceId\tCustomerId\tInvoiceDate\tBillingAddress\tBillingCity\tBillingState\tBillingCountry\tBillingPostalCode\tTotal\n",
      "1\t2\t2009-01-01 00:00:00\tTheodor-Heuss-Straße 34\tStuttgart\tNone\tGermany\t70174\t1.98\n",
      "2\t4\t2009-01-02 00:00:00\tUllevålsveien 14\tOslo\tNone\tNorway\t0171\t3.96\n",
      "3\t8\t2009-01-03 00:00:00\tGrétrystraat 63\tBrussels\tNone\tBelgium\t1000\t5.94\n",
      "*/\n",
      "\n",
      "\n",
      "CREATE TABLE \"InvoiceLine\" (\n",
      "\t\"InvoiceLineId\" INTEGER NOT NULL, \n",
      "\t\"InvoiceId\" INTEGER NOT NULL, \n",
      "\t\"TrackId\" INTEGER NOT NULL, \n",
      "\t\"UnitPrice\" NUMERIC(10, 2) NOT NULL, \n",
      "\t\"Quantity\" INTEGER NOT NULL, \n",
      "\tPRIMARY KEY (\"InvoiceLineId\"), \n",
      "\tFOREIGN KEY(\"TrackId\") REFERENCES \"Track\" (\"TrackId\"), \n",
      "\tFOREIGN KEY(\"InvoiceId\") REFERENCES \"Invoice\" (\"InvoiceId\")\n",
      ")\n",
      "\n",
      "/*\n",
      "3 rows from InvoiceLine table:\n",
      "InvoiceLineId\tInvoiceId\tTrackId\tUnitPrice\tQuantity\n",
      "1\t1\t2\t0.99\t1\n",
      "2\t1\t4\t0.99\t1\n",
      "3\t2\t6\t0.99\t1\n",
      "*/\n",
      "\n",
      "\n",
      "CREATE TABLE \"MediaType\" (\n",
      "\t\"MediaTypeId\" INTEGER NOT NULL, \n",
      "\t\"Name\" NVARCHAR(120), \n",
      "\tPRIMARY KEY (\"MediaTypeId\")\n",
      ")\n",
      "\n",
      "/*\n",
      "3 rows from MediaType table:\n",
      "MediaTypeId\tName\n",
      "1\tMPEG audio file\n",
      "2\tProtected AAC audio file\n",
      "3\tProtected MPEG-4 video file\n",
      "*/\n",
      "\n",
      "\n",
      "CREATE TABLE \"Playlist\" (\n",
      "\t\"PlaylistId\" INTEGER NOT NULL, \n",
      "\t\"Name\" NVARCHAR(120), \n",
      "\tPRIMARY KEY (\"PlaylistId\")\n",
      ")\n",
      "\n",
      "/*\n",
      "3 rows from Playlist table:\n",
      "PlaylistId\tName\n",
      "1\tMusic\n",
      "2\tMovies\n",
      "3\tTV Shows\n",
      "*/\n",
      "\n",
      "\n",
      "CREATE TABLE \"PlaylistTrack\" (\n",
      "\t\"PlaylistId\" INTEGER NOT NULL, \n",
      "\t\"TrackId\" INTEGER NOT NULL, \n",
      "\tPRIMARY KEY (\"PlaylistId\", \"TrackId\"), \n",
      "\tFOREIGN KEY(\"TrackId\") REFERENCES \"Track\" (\"TrackId\"), \n",
      "\tFOREIGN KEY(\"PlaylistId\") REFERENCES \"Playlist\" (\"PlaylistId\")\n",
      ")\n",
      "\n",
      "/*\n",
      "3 rows from PlaylistTrack table:\n",
      "PlaylistId\tTrackId\n",
      "1\t3402\n",
      "1\t3389\n",
      "1\t3390\n",
      "*/\n",
      "\n",
      "\n",
      "CREATE TABLE \"Track\" (\n",
      "\t\"TrackId\" INTEGER NOT NULL, \n",
      "\t\"Name\" NVARCHAR(200) NOT NULL, \n",
      "\t\"AlbumId\" INTEGER, \n",
      "\t\"MediaTypeId\" INTEGER NOT NULL, \n",
      "\t\"GenreId\" INTEGER, \n",
      "\t\"Composer\" NVARCHAR(220), \n",
      "\t\"Milliseconds\" INTEGER NOT NULL, \n",
      "\t\"Bytes\" INTEGER, \n",
      "\t\"UnitPrice\" NUMERIC(10, 2) NOT NULL, \n",
      "\tPRIMARY KEY (\"TrackId\"), \n",
      "\tFOREIGN KEY(\"MediaTypeId\") REFERENCES \"MediaType\" (\"MediaTypeId\"), \n",
      "\tFOREIGN KEY(\"GenreId\") REFERENCES \"Genre\" (\"GenreId\"), \n",
      "\tFOREIGN KEY(\"AlbumId\") REFERENCES \"Album\" (\"AlbumId\")\n",
      ")\n",
      "\n",
      "/*\n",
      "3 rows from Track table:\n",
      "TrackId\tName\tAlbumId\tMediaTypeId\tGenreId\tComposer\tMilliseconds\tBytes\tUnitPrice\n",
      "1\tFor Those About To Rock (We Salute You)\t1\t1\t1\tAngus Young, Malcolm Young, Brian Johnson\t343719\t11170334\t0.99\n",
      "2\tBalls to the Wall\t2\t2\t1\tNone\t342562\t5510424\t0.99\n",
      "3\tFast As a Shark\t3\t2\t1\tF. Baltes, S. Kaufman, U. Dirkscneider & W. Hoffman\t230619\t3990994\t0.99\n",
      "*/\n"
     ]
    }
   ],
   "source": [
    "print(db.get_table_info())"
   ]
  },
  {
   "cell_type": "markdown",
   "id": "03a14f70-2bbf-4005-95ba-5244fcea1c6b",
   "metadata": {},
   "source": [
    "### create_sql_query_chain - SQL 만들기"
   ]
  },
  {
   "cell_type": "code",
   "execution_count": 18,
   "id": "679e77a1-536c-4236-b7e7-f09a1d8d5aa1",
   "metadata": {},
   "outputs": [],
   "source": [
    "from langchain.chains import create_sql_query_chain"
   ]
  },
  {
   "cell_type": "code",
   "execution_count": 19,
   "id": "45f14623-290d-4244-a8b3-1c57f6f1f5e8",
   "metadata": {},
   "outputs": [],
   "source": [
    "sql_chain = create_sql_query_chain(llm, db)"
   ]
  },
  {
   "cell_type": "code",
   "execution_count": 20,
   "id": "ef76cb10-0f20-4bdc-96aa-66ab7d4fcf35",
   "metadata": {},
   "outputs": [
    {
     "data": {
      "text/plain": [
       "'```sql\\nSQLQuery: SELECT COUNT(*) AS \"EmployeeCount\" FROM \"Employee\"\\n```'"
      ]
     },
     "execution_count": 20,
     "metadata": {},
     "output_type": "execute_result"
    }
   ],
   "source": [
    "response = sql_chain.invoke({\"question\": \"How many employees are there\"})\n",
    "response"
   ]
  },
  {
   "cell_type": "markdown",
   "id": "0ced02e5-468f-4701-bca4-78d76c45d0af",
   "metadata": {},
   "source": [
    "### SQLDatabaseChain - DB에서 정보 추출하기"
   ]
  },
  {
   "cell_type": "code",
   "execution_count": 21,
   "id": "6912bd16-dc1f-4117-87f1-242693b9cf4e",
   "metadata": {},
   "outputs": [],
   "source": [
    "from langchain_experimental.sql import SQLDatabaseChain"
   ]
  },
  {
   "cell_type": "code",
   "execution_count": 30,
   "id": "3b85d47d-eb62-45a7-ac6a-df84adb78387",
   "metadata": {},
   "outputs": [],
   "source": [
    "db_chain = SQLDatabaseChain.from_llm(llm, db, verbose=True)"
   ]
  },
  {
   "cell_type": "code",
   "execution_count": 31,
   "id": "e2cf459d-8d0f-4974-8f59-4bd07ae81c2c",
   "metadata": {},
   "outputs": [
    {
     "name": "stdout",
     "output_type": "stream",
     "text": [
      "\n",
      "\n",
      "\u001b[1m> Entering new SQLDatabaseChain chain...\u001b[0m\n",
      "고용된 인원은 몇명이야?\n",
      "SQLQuery:\u001b[32;1m\u001b[1;3mSQLQuery: SELECT COUNT(*) AS \"EmployeeCount\" FROM \"Employee\"\u001b[0m\n",
      "SQLResult: \u001b[33;1m\u001b[1;3m[(8,)]\u001b[0m\n",
      "Answer:\u001b[32;1m\u001b[1;3m8명이 고용되어 있습니다.\u001b[0m\n",
      "\u001b[1m> Finished chain.\u001b[0m\n"
     ]
    },
    {
     "data": {
      "text/plain": [
       "'8명이 고용되어 있습니다.'"
      ]
     },
     "execution_count": 31,
     "metadata": {},
     "output_type": "execute_result"
    }
   ],
   "source": [
    "db_chain.run(\"고용된 인원은 몇명이야?\")"
   ]
  },
  {
   "cell_type": "code",
   "execution_count": 34,
   "id": "d5e7b2e1-edf3-4542-9713-a8737b84e2a8",
   "metadata": {},
   "outputs": [
    {
     "name": "stdout",
     "output_type": "stream",
     "text": [
      "\n",
      "\n",
      "\u001b[1m> Entering new SQLDatabaseChain chain...\u001b[0m\n",
      "나라별 총 매출을 나열하십시오. 어느 나라의 고객이 가장 많이 소비했어?\n",
      "SQLQuery:\u001b[32;1m\u001b[1;3mSQLQuery: SELECT \"BillingCountry\", SUM(\"Total\") AS \"TotalSales\" FROM \"Invoice\" GROUP BY \"BillingCountry\" ORDER BY \"TotalSales\" DESC LIMIT 5;\u001b[0m\n",
      "SQLResult: \u001b[33;1m\u001b[1;3m[('USA', 523.06), ('Canada', 303.96), ('France', 195.1), ('Brazil', 190.1), ('Germany', 156.48)]\u001b[0m\n",
      "Answer:\u001b[32;1m\u001b[1;3mUSA의 고객이 가장 많이 소비했습니다.\u001b[0m\n",
      "\u001b[1m> Finished chain.\u001b[0m\n"
     ]
    },
    {
     "data": {
      "text/plain": [
       "'USA의 고객이 가장 많이 소비했습니다.'"
      ]
     },
     "execution_count": 34,
     "metadata": {},
     "output_type": "execute_result"
    }
   ],
   "source": [
    "db_chain.run(\"나라별 총 매출을 나열하십시오. 어느 나라의 고객이 가장 많이 소비했어?\")"
   ]
  },
  {
   "cell_type": "markdown",
   "id": "c30ed04c-f1d5-4cde-9f74-cc0637f277bf",
   "metadata": {},
   "source": [
    "### create_retrieval_chain - RAG를 위한 Chain"
   ]
  },
  {
   "cell_type": "code",
   "execution_count": 35,
   "id": "b2c8a37b-4ab2-4904-a2da-b8b2fdc57029",
   "metadata": {
    "scrolled": true
   },
   "outputs": [
    {
     "name": "stdout",
     "output_type": "stream",
     "text": [
      "Requirement already satisfied: langchainhub in /Users/user/miniconda3/envs/fc-ai-signature/lib/python3.11/site-packages (0.1.18)\n",
      "Requirement already satisfied: requests<3,>=2 in /Users/user/miniconda3/envs/fc-ai-signature/lib/python3.11/site-packages (from langchainhub) (2.32.2)\n",
      "Requirement already satisfied: types-requests<3.0.0.0,>=2.31.0.2 in /Users/user/miniconda3/envs/fc-ai-signature/lib/python3.11/site-packages (from langchainhub) (2.32.0.20240602)\n",
      "Requirement already satisfied: charset-normalizer<4,>=2 in /Users/user/miniconda3/envs/fc-ai-signature/lib/python3.11/site-packages (from requests<3,>=2->langchainhub) (3.3.2)\n",
      "Requirement already satisfied: idna<4,>=2.5 in /Users/user/miniconda3/envs/fc-ai-signature/lib/python3.11/site-packages (from requests<3,>=2->langchainhub) (3.7)\n",
      "Requirement already satisfied: urllib3<3,>=1.21.1 in /Users/user/miniconda3/envs/fc-ai-signature/lib/python3.11/site-packages (from requests<3,>=2->langchainhub) (2.2.1)\n",
      "Requirement already satisfied: certifi>=2017.4.17 in /Users/user/miniconda3/envs/fc-ai-signature/lib/python3.11/site-packages (from requests<3,>=2->langchainhub) (2024.2.2)\n"
     ]
    }
   ],
   "source": [
    "!pip install langchainhub"
   ]
  },
  {
   "cell_type": "code",
   "execution_count": 36,
   "id": "46eed5da-2174-45cc-b976-7e2b84c44c8c",
   "metadata": {},
   "outputs": [],
   "source": [
    "from langchain.text_splitter import CharacterTextSplitter\n",
    "from langchain_openai import OpenAIEmbeddings\n",
    "from langchain_community.vectorstores import FAISS\n",
    "from langchain_community.document_loaders import PyPDFLoader"
   ]
  },
  {
   "cell_type": "code",
   "execution_count": 38,
   "id": "551fcbca-8360-4ccb-bb84-6f74e8f8aabe",
   "metadata": {},
   "outputs": [],
   "source": [
    "from langchain.chains.combine_documents import create_stuff_documents_chain\n",
    "from langchain.chains import create_retrieval_chain\n",
    "from langchain import hub"
   ]
  },
  {
   "cell_type": "code",
   "execution_count": 39,
   "id": "9cf8d2bd-472a-486a-a194-f6d751717f1a",
   "metadata": {},
   "outputs": [],
   "source": [
    "llm = ChatOpenAI(model=\"gpt-4-1106-preview\")"
   ]
  },
  {
   "cell_type": "code",
   "execution_count": 40,
   "id": "c19378c5-d3ae-4136-9a1f-d6a4c249d247",
   "metadata": {},
   "outputs": [],
   "source": [
    "retrieval_qa_chat_prompt = hub.pull(\"langchain-ai/retrieval-qa-chat\")"
   ]
  },
  {
   "cell_type": "code",
   "execution_count": 41,
   "id": "bb5fb33d-9259-4e98-bc8d-187b8a39168b",
   "metadata": {},
   "outputs": [
    {
     "data": {
      "text/plain": [
       "ChatPromptTemplate(input_variables=['context', 'input'], input_types={'chat_history': typing.List[typing.Union[langchain_core.messages.ai.AIMessage, langchain_core.messages.human.HumanMessage, langchain_core.messages.chat.ChatMessage, langchain_core.messages.system.SystemMessage, langchain_core.messages.function.FunctionMessage, langchain_core.messages.tool.ToolMessage]]}, metadata={'lc_hub_owner': 'langchain-ai', 'lc_hub_repo': 'retrieval-qa-chat', 'lc_hub_commit_hash': 'b60afb6297176b022244feb83066e10ecadcda7b90423654c4a9d45e7a73cebc'}, messages=[SystemMessagePromptTemplate(prompt=PromptTemplate(input_variables=['context'], template='Answer any use questions based solely on the context below:\\n\\n<context>\\n{context}\\n</context>')), MessagesPlaceholder(variable_name='chat_history', optional=True), HumanMessagePromptTemplate(prompt=PromptTemplate(input_variables=['input'], template='{input}'))])"
      ]
     },
     "execution_count": 41,
     "metadata": {},
     "output_type": "execute_result"
    }
   ],
   "source": [
    "retrieval_qa_chat_prompt"
   ]
  },
  {
   "cell_type": "code",
   "execution_count": 42,
   "id": "142586c9-ab06-4205-8eef-edfc317e0155",
   "metadata": {},
   "outputs": [],
   "source": [
    "loader = PyPDFLoader(\"./data/소개팅_나무위키.pdf\")"
   ]
  },
  {
   "cell_type": "code",
   "execution_count": 43,
   "id": "175168bb-20a1-47de-9de5-5b6becae668e",
   "metadata": {},
   "outputs": [],
   "source": [
    "pages = loader.load_and_split()"
   ]
  },
  {
   "cell_type": "code",
   "execution_count": 44,
   "id": "8ea94c92-d75f-4560-a1a5-adb61cbb50f3",
   "metadata": {},
   "outputs": [],
   "source": [
    "text_splitter = CharacterTextSplitter(separator='\\n', chunk_size=250, chunk_overlap=0)\n",
    "texts = text_splitter.split_documents(pages)"
   ]
  },
  {
   "cell_type": "code",
   "execution_count": 45,
   "id": "dc664ac8-6038-45e3-ac4a-b1e3c06918f6",
   "metadata": {},
   "outputs": [],
   "source": [
    "embeddings = OpenAIEmbeddings()\n",
    "db = FAISS.from_documents(texts, embeddings)\n",
    "retriever = db.as_retriever(search_kwargs={\"k\": 10})"
   ]
  },
  {
   "cell_type": "code",
   "execution_count": 46,
   "id": "39131614-27de-4ffc-907c-bf518b085bed",
   "metadata": {},
   "outputs": [],
   "source": [
    "combine_docs_chain = create_stuff_documents_chain(\n",
    "    llm, retrieval_qa_chat_prompt\n",
    ")\n",
    "retrieval_chain = create_retrieval_chain(retriever, combine_docs_chain)"
   ]
  },
  {
   "cell_type": "code",
   "execution_count": 47,
   "id": "661828cd-7f06-464c-bd1c-f8e04139c4c2",
   "metadata": {},
   "outputs": [
    {
     "data": {
      "text/plain": [
       "{'input': '주선자의 역할에 대해 알려줘',\n",
       " 'context': [Document(page_content='남은 주선자  a 의  고등학교  동창인데 , 주선자  a 는  회사  동료  b 를  통해  b 의  여고  동창인  B 녀의  연락처를  받고  연결해주는  경우에\\n는 주선자  역할인  a 는  A 와  b 만  잘  알  뿐  정작  소개팅  상대녀인  B 에  대한  정보는  한다리  건너서만  아는  식 .', metadata={'source': './data/소개팅_나무위키.pdf', 'page': 1}),\n",
       "  Document(page_content='2. 주선자와  그  역할\\n과거에는  주선자가  대상  남녀가  만날  장소까지  주선해  주고  잠시  동석하여  각자  소개  및  대화를  잠깐  이끌어  주었다가  자리를\\n비우고  이후  둘이  만남을  이어가는  방식이  일반적이었다 . 대략  2000 년대  초반까지는  그런  패턴이었는데 , 당시에는  그럴  만한', metadata={'source': './data/소개팅_나무위키.pdf', 'page': 1}),\n",
       "  Document(page_content='그러나  이후에는  점차  주선자의  역할이  축소되어  주선자는  둘의  연락처와  대략적인  신상까지만  제공하거나 , 아예  연락처만  전\\n달해 주고  이후에는  관여하지  않는  방식으로  바뀌었다 . 그  이후는  남녀가  알아서  진행해야  한다 .\\n주선자의  역할이  줄어들다  보니 , 아예  주선자조차  남녀를  둘  다  알지  못하는  한다리  건너식  소개팅  양상도  늘어났다 . 예컨대  A', metadata={'source': './data/소개팅_나무위키.pdf', 'page': 1}),\n",
       "  Document(page_content='주선자가  일단은  주선을  해주겠다곤  했지만 , 나중에  한  3 번쯤  물어봤는데  \" 알아보는  중이다 , 괜찮은  남자 / 여자가  없다 \" 는  대답\\n이 돌아왔다면  그  사람은  당신을  상대로  주선해줄만한  자신이  없는 상황이라고  간주해도  크게  틀리지  않으니  적당히  포기하는', metadata={'source': './data/소개팅_나무위키.pdf', 'page': 5}),\n",
       "  Document(page_content=\"을 보아  가면서  그  화제를  이어갈지를  생각하면서  이야기하는  것이  좋다 .\\n또한 소개팅을  위해  자신이  노력한  부분들을  이야기  하는  것도  금물이다 . 경우에  따라서  상대방에  대한  질책이나  노력배틀\\n이라도  걸어오는  것처럼  여겨질  수  있다 . 기본적으로  소개팅  자리는  서로  ' 원래  어떤  사람인지  보여주는 ' 의미인데 , ' 내가\", metadata={'source': './data/소개팅_나무위키.pdf', 'page': 8}),\n",
       "  Document(page_content='고 남자를  소개받는  경우 , 여자  주선자에게  부탁하는  것이  좋다 .[9] 그 이유는  주선자가  동성의  외모에  보다  관대한  편이기\\n때문이다 . 소개팅에서  불만이  나오는  이유도  이것이  크다 . 물론  이것도  케이스  바이  케이스다 . 직장동료나  상사 , 선배들이\\n소개해  주는  사람들은  그들의  입장에서  참한  사람이므로  조심해야  한다 . 사진을  보고  소개팅에  응할지  말지  미리  결정하', metadata={'source': './data/소개팅_나무위키.pdf', 'page': 6}),\n",
       "  Document(page_content='키, 학력 , 연봉이나  재력 , 집안 : 상대방에게  질문하다가  속물  취급당하지  말고 , 주선자에게  물어보거나  대화  중  흘려\\n지는 정보들로  추론하자 .\\n정치관 : 이것도  같은  성향이라는  것을  알고  만났을  경우에는  호감을  키울  가능성이  높고  이만한  대화주제도  없다 . 정\\n말 이 부분이  인생에서  중요하다면  차라리  주선자에게  솔직하게  이야기  하고  같은  사람을  소개받는  것이  좋다 .', metadata={'source': './data/소개팅_나무위키.pdf', 'page': 13}),\n",
       "  Document(page_content='한다\\' 라는  것 , 그리고  정돈되어  보여야  한다는  점이다 . 예를  들어 , 남자의  경우  츄리닝에  삼선  슬리퍼를  신고  소개팅  장소\\n에 나온다면 , 어느  여자도  그를  \" 나와의  소개팅에  성의를  보였네 ?\" 라고  생각하지  않을  것이다 . 결혼적령기  소개팅의  경우\\n결혼 상대로서의  모습을  보여야  한다 . 남자는  정장을  입으면  필요  이상으로  격식을  차린  것으로  생각해  여자  쪽에서  부담', metadata={'source': './data/소개팅_나무위키.pdf', 'page': 12}),\n",
       "  Document(page_content='주변에서  이어주려  한다 . 소개팅을  시켜줘도  주선자  본인에게  인간  관계  면에서의  손해가  없다고  확실히  판단되는  경우라면  이\\n미 자신과  친밀한  쪽에서  먼저  소개팅이  들어올  확률이  높다 . 처음부터  친밀한  주변인들을  건너뛰고  건너  아는  사람으로  부터', metadata={'source': './data/소개팅_나무위키.pdf', 'page': 5}),\n",
       "  Document(page_content='도 재차  소개팅을  요청하는  것은  자제하도록  하자 .\\n4. 소개팅  팁\\n아무래도  모르는  사람을  만나는  것이고 , 주선자와의  관계도  있기  때문에  주의할  것이  많다 . 남자친구, 여자친구 문서에서도  잘\\n설명되어  있지만  이성  간의  관계는  은근히  사회화가  이뤄지기  어렵고  딱  부러지는  답이  없다보니  경험이  적으면  적을수록  본의\\n아니게  평균  이하의  비매너로  낙인찍힐  위험이  크다 .', metadata={'source': './data/소개팅_나무위키.pdf', 'page': 6})],\n",
       " 'answer': '주선자의 역할은 시대에 따라 변화했습니다. 과거에는 주선자가 남녀가 만날 장소까지 정해주고, 만남에 직접 동석하여 각자를 소개하고 대화를 이끌어준 후 자리를 비워주는 방식이 일반적이었습니다. 이는 대략 2000년대 초반까지의 패턴입니다.\\n\\n하지만 이후 주선자의 역할이 축소되면서, 주선자는 남녀의 연락처와 대략적인 신상 정보만 제공하거나, 때로는 연락처만 전달하고 이후의 과정에는 관여하지 않는 방식으로 변화했습니다. 이 변화는 남녀가 스스로 만남을 진행해야 하는 상황을 만들었습니다.\\n\\n더 나아가, 주선자가 남녀 양쪽을 모두 알지 못하는 경우에도 소개팅을 주선하는 경우가 생겼습니다. 이러한 경우 주선자는 한다리 건너 아는 사람을 통해 연결해주는 역할을 하게 되었습니다. 주선자가 소개를 해주겠다고 한 후에도 적합한 대상을 찾지 못하면 \"알아보는 중이다\"는 식의 대답을 할 수도 있으며, 이런 경우에는 소개팅이 이루어지지 않을 가능성을 고려해야 합니다.\\n\\n요약하면, 주선자의 역할은 시간이 지남에 따라 남녀가 만나는 장소와 시간을 정하는 것에서부터, 간접적으로만 연락처를 교환해주는 역할로 변화했으며, 때로는 양쪽 당사자를 직접 알지 못하는 경우도 있습니다.'}"
      ]
     },
     "execution_count": 47,
     "metadata": {},
     "output_type": "execute_result"
    }
   ],
   "source": [
    "retrieval_chain.invoke({\"input\": \"주선자의 역할에 대해 알려줘\"})"
   ]
  },
  {
   "cell_type": "code",
   "execution_count": null,
   "id": "01a474d3-5c19-428d-98a6-d9d227946aaa",
   "metadata": {},
   "outputs": [],
   "source": []
  }
 ],
 "metadata": {
  "kernelspec": {
   "display_name": "Python 3 (ipykernel)",
   "language": "python",
   "name": "python3"
  },
  "language_info": {
   "codemirror_mode": {
    "name": "ipython",
    "version": 3
   },
   "file_extension": ".py",
   "mimetype": "text/x-python",
   "name": "python",
   "nbconvert_exporter": "python",
   "pygments_lexer": "ipython3",
   "version": "3.11.9"
  }
 },
 "nbformat": 4,
 "nbformat_minor": 5
}
