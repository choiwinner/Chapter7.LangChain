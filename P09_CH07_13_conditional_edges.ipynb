{
 "cells": [
  {
   "cell_type": "markdown",
   "id": "99510ceb-ad8c-4931-95c2-a60766c8c3c0",
   "metadata": {},
   "source": [
    "# Conditional edges"
   ]
  },
  {
   "cell_type": "code",
   "execution_count": 1,
   "id": "d7dc1d18-9859-4da6-924b-538245913105",
   "metadata": {},
   "outputs": [],
   "source": [
    "from typing import Annotated, Literal\n",
    "from typing_extensions import TypedDict\n",
    "from langgraph.graph import END, START, StateGraph"
   ]
  },
  {
   "cell_type": "code",
   "execution_count": 2,
   "id": "3b95054e-aa7b-4148-8aa7-43df603dc6a5",
   "metadata": {},
   "outputs": [],
   "source": [
    "# Helper\n",
    "def visualize_graph(graph):\n",
    "    from IPython.display import Image, display\n",
    "    try:\n",
    "        display(Image(graph.get_graph(xray=True).draw_mermaid_png()))\n",
    "    except Exception:\n",
    "        # This requires some extra dependencies and is optional\n",
    "        pass"
   ]
  },
  {
   "cell_type": "code",
   "execution_count": 4,
   "id": "4839110c-5b61-4998-a01b-83f06efcd35d",
   "metadata": {},
   "outputs": [],
   "source": [
    "def add(left, right):\n",
    "    return left + right\n",
    "\n",
    "\n",
    "class State(TypedDict):\n",
    "    total: Annotated[int, add]"
   ]
  },
  {
   "cell_type": "code",
   "execution_count": 9,
   "id": "13109177-2f70-4fdb-9637-b337ab1d7385",
   "metadata": {},
   "outputs": [],
   "source": [
    "builder = StateGraph(State)\n",
    "builder.add_node(\"add_one\", lambda x: {\"total\": 1})\n",
    "builder.add_node(\"plus_10\", lambda x: {\"total\": x[\"total\"] + 10})\n",
    "builder.add_node(\"minus_10\", lambda x: {\"total\": x[\"total\"] - 10})\n",
    "builder.add_edge(START, \"add_one\")\n",
    "\n",
    "\n",
    "def route(state: State) -> Literal[\"plus_10\", \"minus_10\"]:\n",
    "    if state[\"total\"] < 5:\n",
    "        return \"plus_10\"\n",
    "    else:\n",
    "        return \"minus_10\"\n",
    "\n",
    "\n",
    "builder.add_conditional_edges(\"add_one\", route)\n",
    "builder.add_edge(\"plus_10\", END)\n",
    "builder.add_edge(\"minus_10\", END)\n",
    "\n",
    "graph = builder.compile()"
   ]
  },
  {
   "cell_type": "code",
   "execution_count": 10,
   "id": "581866b8-1511-4994-9692-dfc3a8b8919f",
   "metadata": {},
   "outputs": [
    {
     "data": {
      "image/jpeg": "[encoded data removed]",
      "text/plain": [
       "<IPython.core.display.Image object>"
      ]
     },
     "metadata": {},
     "output_type": "display_data"
    }
   ],
   "source": [
    "visualize_graph(graph)"
   ]
  },
  {
   "cell_type": "code",
   "execution_count": 27,
   "id": "9681b87c-611c-4941-9aba-fc4f8a151454",
   "metadata": {},
   "outputs": [
    {
     "data": {
      "text/plain": [
       "{'total': 16}"
      ]
     },
     "execution_count": 27,
     "metadata": {},
     "output_type": "execute_result"
    }
   ],
   "source": [
    "graph.invoke({\"total\": 12})"
   ]
  },
  {
   "cell_type": "code",
   "execution_count": null,
   "id": "e8b76f4b-1af7-4123-80aa-b67312b0525e",
   "metadata": {},
   "outputs": [],
   "source": []
  }
 ],
 "metadata": {
  "kernelspec": {
   "display_name": "Python 3 (ipykernel)",
   "language": "python",
   "name": "python3"
  },
  "language_info": {
   "codemirror_mode": {
    "name": "ipython",
    "version": 3
   },
   "file_extension": ".py",
   "mimetype": "text/x-python",
   "name": "python",
   "nbconvert_exporter": "python",
   "pygments_lexer": "ipython3",
   "version": "3.11.9"
  }
 },
 "nbformat": 4,
 "nbformat_minor": 5
}
