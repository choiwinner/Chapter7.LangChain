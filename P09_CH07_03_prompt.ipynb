{
 "cells": [
  {
   "attachments": {},
   "cell_type": "markdown",
   "id": "0126a6a1",
   "metadata": {},
   "source": [
    "# Prompt 적용하기\n",
    "\n",
    "- prompt template의 종류\n",
    "  - PromptTemplate\n",
    "    - Completion Style의 LLM을 위한 prompt template\n",
    "    - 하지만 Chat style LLM에 요청하면 적절하게 입력을 user turn에 채워서 요청을 만들어줌\n",
    "  - ChatPromptTemplate\n",
    "    - Chat style LLM을 위한 prompt template."
   ]
  },
  {
   "cell_type": "markdown",
   "id": "120c19a8-045d-40cc-91ac-26cf9a2c4aa5",
   "metadata": {},
   "source": [
    "## PromptTemplate"
   ]
  },
  {
   "cell_type": "code",
   "execution_count": 1,
   "id": "f0110f7e-949d-4bc4-820b-92ed613b5d04",
   "metadata": {},
   "outputs": [],
   "source": [
    "from langchain_core.prompts import PromptTemplate"
   ]
  },
  {
   "cell_type": "code",
   "execution_count": 2,
   "id": "c9643443-3e5f-4761-95c3-a290c6453279",
   "metadata": {},
   "outputs": [
    {
     "data": {
      "text/plain": [
       "\"'안녕' 이 문장을 영어로 번역해줘\""
      ]
     },
     "execution_count": 2,
     "metadata": {},
     "output_type": "execute_result"
    }
   ],
   "source": [
    "prompt_template = PromptTemplate.from_template(\n",
    "    \"'{text}' 이 문장을 영어로 번역해줘\"\n",
    ")\n",
    "prompt_template.format(text=\"안녕\")"
   ]
  },
  {
   "cell_type": "code",
   "execution_count": 3,
   "id": "b2dc62c1-8c1c-4a77-ada7-af62485996ea",
   "metadata": {},
   "outputs": [
    {
     "data": {
      "text/plain": [
       "StringPromptValue(text=\"'안녕' 이 문장을 영어로 번역해줘\")"
      ]
     },
     "execution_count": 3,
     "metadata": {},
     "output_type": "execute_result"
    }
   ],
   "source": [
    "prompt_val = prompt_template.invoke({\"text\": \"안녕\"})\n",
    "prompt_val"
   ]
  },
  {
   "cell_type": "code",
   "execution_count": 4,
   "id": "b5d0e8d0-f1b1-4061-8cae-5857ccc023ac",
   "metadata": {},
   "outputs": [
    {
     "data": {
      "text/plain": [
       "\"'안녕' 이 문장을 영어로 번역해줘\""
      ]
     },
     "execution_count": 4,
     "metadata": {},
     "output_type": "execute_result"
    }
   ],
   "source": [
    "prompt_val.to_string()"
   ]
  },
  {
   "cell_type": "code",
   "execution_count": 5,
   "id": "b851625b-8e4b-422f-b906-48a471e1e5cb",
   "metadata": {},
   "outputs": [
    {
     "data": {
      "text/plain": [
       "[HumanMessage(content=\"'안녕' 이 문장을 영어로 번역해줘\", additional_kwargs={}, response_metadata={})]"
      ]
     },
     "execution_count": 5,
     "metadata": {},
     "output_type": "execute_result"
    }
   ],
   "source": [
    "prompt_val.to_messages()"
   ]
  },
  {
   "cell_type": "markdown",
   "id": "935988f9-1185-41d0-b783-a0234a8733bb",
   "metadata": {},
   "source": [
    "### ChatPromptTemplate"
   ]
  },
  {
   "cell_type": "code",
   "execution_count": 1,
   "id": "d28d2f22-e430-472d-8a66-c70a46f25e1f",
   "metadata": {},
   "outputs": [],
   "source": [
    "from langchain_core.prompts.chat import (\n",
    "    ChatPromptTemplate,\n",
    "    HumanMessagePromptTemplate,\n",
    ")"
   ]
  },
  {
   "cell_type": "code",
   "execution_count": 3,
   "id": "187c1018-67d6-4ab2-bf5e-73de04eb97cc",
   "metadata": {},
   "outputs": [],
   "source": [
    "human_template = \"'{text}' 이 문장을 영어로 번역해줘\"\n",
    "human_message_prompt = HumanMessagePromptTemplate.from_template(human_template)\n",
    "chat_prompt = ChatPromptTemplate.from_messages([human_message_prompt])"
   ]
  },
  {
   "cell_type": "code",
   "execution_count": 4,
   "id": "4b96aa3e-3e80-4379-aeb4-dbef2880d3fe",
   "metadata": {},
   "outputs": [
    {
     "data": {
      "text/plain": [
       "ChatPromptTemplate(input_variables=['text'], input_types={}, partial_variables={}, messages=[HumanMessagePromptTemplate(prompt=PromptTemplate(input_variables=['text'], input_types={}, partial_variables={}, template=\"'{text}' 이 문장을 영어로 번역해줘\"), additional_kwargs={})])"
      ]
     },
     "execution_count": 4,
     "metadata": {},
     "output_type": "execute_result"
    }
   ],
   "source": [
    "chat_prompt"
   ]
  },
  {
   "cell_type": "code",
   "execution_count": 5,
   "id": "76d3584f-4fb2-4711-aba7-b54ebeb9d5d4",
   "metadata": {},
   "outputs": [
    {
     "data": {
      "text/plain": [
       "ChatPromptValue(messages=[HumanMessage(content=\"'안녕' 이 문장을 영어로 번역해줘\", additional_kwargs={}, response_metadata={})])"
      ]
     },
     "execution_count": 5,
     "metadata": {},
     "output_type": "execute_result"
    }
   ],
   "source": [
    "chat_prompt.invoke({\"text\": \"안녕\"})"
   ]
  },
  {
   "cell_type": "code",
   "execution_count": 6,
   "id": "38005307-02f9-4afd-aeef-e49d7174e587",
   "metadata": {},
   "outputs": [
    {
     "data": {
      "text/plain": [
       "ChatPromptValue(messages=[HumanMessage(content=\"'잘가' 이 문장을 영어로 번역해줘\", additional_kwargs={}, response_metadata={})])"
      ]
     },
     "execution_count": 6,
     "metadata": {},
     "output_type": "execute_result"
    }
   ],
   "source": [
    "chat_val = chat_prompt.invoke({\"text\": \"잘가\"})\n",
    "chat_val"
   ]
  },
  {
   "cell_type": "code",
   "execution_count": 7,
   "id": "5ce52d65-9dcc-44b5-b92b-a275aef67fe2",
   "metadata": {},
   "outputs": [
    {
     "data": {
      "text/plain": [
       "\"Human: '잘가' 이 문장을 영어로 번역해줘\""
      ]
     },
     "execution_count": 7,
     "metadata": {},
     "output_type": "execute_result"
    }
   ],
   "source": [
    "chat_val.to_string()"
   ]
  },
  {
   "cell_type": "code",
   "execution_count": 8,
   "id": "c31e7aff-db7c-4e3c-84ab-f98095de3c2b",
   "metadata": {},
   "outputs": [
    {
     "data": {
      "text/plain": [
       "[HumanMessage(content=\"'잘가' 이 문장을 영어로 번역해줘\", additional_kwargs={}, response_metadata={})]"
      ]
     },
     "execution_count": 8,
     "metadata": {},
     "output_type": "execute_result"
    }
   ],
   "source": [
    "chat_val.to_messages()"
   ]
  },
  {
   "cell_type": "markdown",
   "id": "9cd44ec3-db8e-404d-a408-54b9b2d44eff",
   "metadata": {},
   "source": [
    "## 간략한 버전"
   ]
  },
  {
   "cell_type": "code",
   "execution_count": 10,
   "id": "a736a7b1",
   "metadata": {},
   "outputs": [],
   "source": [
    "# 간단한 버젼으로 Chat은 거의 사용한다.\n",
    "from langchain_core.prompts.chat import ChatPromptTemplate"
   ]
  },
  {
   "cell_type": "code",
   "execution_count": 11,
   "id": "c2274501",
   "metadata": {},
   "outputs": [],
   "source": [
    "system_prompt = \"사용자의 질문을 영어로 번역해라\"\n",
    "chat_prompt = ChatPromptTemplate.from_messages(\n",
    "    [(\"system\",system_prompt),\n",
    "     (\"user\",\"{text}\")]\n",
    ")"
   ]
  },
  {
   "cell_type": "code",
   "execution_count": 12,
   "id": "86f9f357",
   "metadata": {},
   "outputs": [],
   "source": [
    "chat_value = chat_prompt.invoke({\"text\":\"안녕\"})"
   ]
  },
  {
   "cell_type": "code",
   "execution_count": 18,
   "id": "b3208200",
   "metadata": {},
   "outputs": [
    {
     "data": {
      "text/plain": [
       "'System: 사용자의 질문을 영어로 번역해라\\nHuman: 안녕'"
      ]
     },
     "execution_count": 18,
     "metadata": {},
     "output_type": "execute_result"
    }
   ],
   "source": [
    "chat_value.to_string()"
   ]
  },
  {
   "cell_type": "code",
   "execution_count": 20,
   "id": "f758b049",
   "metadata": {},
   "outputs": [
    {
     "data": {
      "text/plain": [
       "[SystemMessage(content='사용자의 질문을 영어로 번역해라', additional_kwargs={}, response_metadata={}),\n",
       " HumanMessage(content='안녕', additional_kwargs={}, response_metadata={})]"
      ]
     },
     "execution_count": 20,
     "metadata": {},
     "output_type": "execute_result"
    }
   ],
   "source": [
    "chat_value.to_messages()"
   ]
  },
  {
   "cell_type": "code",
   "execution_count": 21,
   "id": "9eea7154-9fea-4775-8bf0-41c62a19273f",
   "metadata": {},
   "outputs": [],
   "source": [
    "system_prompt = \"사용자의 질의를 영어로 번역해라.\"\n",
    "chat_prompt = ChatPromptTemplate.from_messages(\n",
    "    [(\"system\", system_prompt),\n",
    "     (\"user\", \"{text}\")]\n",
    ")"
   ]
  },
  {
   "cell_type": "code",
   "execution_count": 22,
   "id": "3c26cf8e-d3e1-4998-b4bf-98fd23beec99",
   "metadata": {},
   "outputs": [
    {
     "data": {
      "text/plain": [
       "ChatPromptValue(messages=[SystemMessage(content='사용자의 질의를 영어로 번역해라.', additional_kwargs={}, response_metadata={}), HumanMessage(content='안녕', additional_kwargs={}, response_metadata={})])"
      ]
     },
     "execution_count": 22,
     "metadata": {},
     "output_type": "execute_result"
    }
   ],
   "source": [
    "chat_val = chat_prompt.invoke({\"text\": \"안녕\"})\n",
    "chat_val"
   ]
  },
  {
   "cell_type": "code",
   "execution_count": 23,
   "id": "58e174a5-67bb-4d74-a0f0-cfdeb1fc59b8",
   "metadata": {},
   "outputs": [
    {
     "data": {
      "text/plain": [
       "'System: 사용자의 질의를 영어로 번역해라.\\nHuman: 안녕'"
      ]
     },
     "execution_count": 23,
     "metadata": {},
     "output_type": "execute_result"
    }
   ],
   "source": [
    "chat_val.to_string()"
   ]
  },
  {
   "cell_type": "code",
   "execution_count": 24,
   "id": "c5ffc238-fb72-4d58-956a-3b3bc2891a82",
   "metadata": {},
   "outputs": [
    {
     "data": {
      "text/plain": [
       "[SystemMessage(content='사용자의 질의를 영어로 번역해라.', additional_kwargs={}, response_metadata={}),\n",
       " HumanMessage(content='안녕', additional_kwargs={}, response_metadata={})]"
      ]
     },
     "execution_count": 24,
     "metadata": {},
     "output_type": "execute_result"
    }
   ],
   "source": [
    "chat_val.to_messages()"
   ]
  },
  {
   "cell_type": "code",
   "execution_count": null,
   "id": "99b83d20-0067-48d6-81a2-2e97f18a7f61",
   "metadata": {},
   "outputs": [],
   "source": []
  }
 ],
 "metadata": {
  "kernelspec": {
   "display_name": "py31012",
   "language": "python",
   "name": "python3"
  },
  "language_info": {
   "codemirror_mode": {
    "name": "ipython",
    "version": 3
   },
   "file_extension": ".py",
   "mimetype": "text/x-python",
   "name": "python",
   "nbconvert_exporter": "python",
   "pygments_lexer": "ipython3",
   "version": "3.10.12"
  }
 },
 "nbformat": 4,
 "nbformat_minor": 5
}
