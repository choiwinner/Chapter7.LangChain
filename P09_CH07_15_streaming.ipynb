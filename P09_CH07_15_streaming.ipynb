{
 "cells": [
  {
   "cell_type": "markdown",
   "id": "99510ceb-ad8c-4931-95c2-a60766c8c3c0",
   "metadata": {},
   "source": [
    "# Streaming"
   ]
  },
  {
   "cell_type": "code",
   "execution_count": 1,
   "id": "d7dc1d18-9859-4da6-924b-538245913105",
   "metadata": {},
   "outputs": [],
   "source": [
    "from typing import Annotated, Literal\n",
    "from typing_extensions import TypedDict\n",
    "from langgraph.checkpoint.memory import MemorySaver\n",
    "from langgraph.graph import END, START, StateGraph"
   ]
  },
  {
   "cell_type": "code",
   "execution_count": 2,
   "id": "ce8f787c-f5fb-4b1e-98f0-e25c190324b7",
   "metadata": {},
   "outputs": [],
   "source": [
    "# Helper\n",
    "def visualize_graph(graph):\n",
    "    from IPython.display import Image, display\n",
    "    try:\n",
    "        display(Image(graph.get_graph(xray=True).draw_mermaid_png()))\n",
    "    except Exception:\n",
    "        # This requires some extra dependencies and is optional\n",
    "        pass"
   ]
  },
  {
   "cell_type": "code",
   "execution_count": 3,
   "id": "4839110c-5b61-4998-a01b-83f06efcd35d",
   "metadata": {},
   "outputs": [],
   "source": [
    "def add(left, right):\n",
    "    return left + right\n",
    "\n",
    "\n",
    "class State(TypedDict):\n",
    "    total: Annotated[int, add]"
   ]
  },
  {
   "cell_type": "code",
   "execution_count": 4,
   "id": "13109177-2f70-4fdb-9637-b337ab1d7385",
   "metadata": {},
   "outputs": [],
   "source": [
    "builder = StateGraph(State)\n",
    "builder.add_node(\"add_one\", lambda x: {\"total\": 1})\n",
    "builder.add_node(\"double\", lambda x: {\"total\": x[\"total\"]})\n",
    "builder.add_edge(START, \"add_one\")\n",
    "\n",
    "\n",
    "def route(state: State) -> Literal[\"double\", \"__end__\"]:\n",
    "    if state[\"total\"] < 6:\n",
    "        return \"double\"\n",
    "    return \"__end__\" # This is what END is\n",
    "\n",
    "\n",
    "builder.add_conditional_edges(\"add_one\", route)\n",
    "builder.add_edge(\"double\", \"add_one\")\n",
    "\n",
    "memory = MemorySaver()\n",
    "graph = builder.compile(checkpointer=memory)"
   ]
  },
  {
   "cell_type": "code",
   "execution_count": 5,
   "id": "fc7aeae1-ab8d-4147-adc0-e52affd47e68",
   "metadata": {},
   "outputs": [
    {
     "data": {
      "image/jpeg": "[encoded data removed]",
      "text/plain": [
       "<IPython.core.display.Image object>"
      ]
     },
     "metadata": {},
     "output_type": "display_data"
    }
   ],
   "source": [
    "visualize_graph(graph)"
   ]
  },
  {
   "cell_type": "code",
   "execution_count": 6,
   "id": "9681b87c-611c-4941-9aba-fc4f8a151454",
   "metadata": {},
   "outputs": [
    {
     "data": {
      "text/plain": [
       "{'total': 11}"
      ]
     },
     "execution_count": 6,
     "metadata": {},
     "output_type": "execute_result"
    }
   ],
   "source": [
    "thread_id = \"some-thread\"\n",
    "config = {\"configurable\": {\"thread_id\": thread_id}}\n",
    "\n",
    "graph.invoke({\"total\": 1}, config)"
   ]
  },
  {
   "cell_type": "code",
   "execution_count": 7,
   "id": "34ae7950-f609-42b2-9c4d-8e3a98b6f20c",
   "metadata": {},
   "outputs": [
    {
     "name": "stdout",
     "output_type": "stream",
     "text": [
      "{'add_one': {'total': 1}}\n",
      "{'double': {'total': 2}}\n",
      "{'add_one': {'total': 1}}\n",
      "{'double': {'total': 5}}\n",
      "{'add_one': {'total': 1}}\n"
     ]
    }
   ],
   "source": [
    "thread_id = \"another-thread\"\n",
    "config = {\"configurable\": {\"thread_id\": thread_id}}\n",
    "\n",
    "for step in graph.stream({\"total\": 1}, config):\n",
    "    print(step)"
   ]
  },
  {
   "cell_type": "code",
   "execution_count": 8,
   "id": "3fdb30c9-a12e-4406-b281-e4f4a76f3faa",
   "metadata": {},
   "outputs": [
    {
     "data": {
      "text/plain": [
       "StateSnapshot(values={'total': 11}, next=(), config={'configurable': {'thread_id': 'another-thread', 'thread_ts': '1ef2f8b0-7e1d-634c-8005-7eef273bc067'}}, metadata={'source': 'loop', 'step': 5, 'writes': {'add_one': {'total': 1}}}, created_at='2024-06-21T04:59:25.097439+00:00', parent_config=None)"
      ]
     },
     "execution_count": 8,
     "metadata": {},
     "output_type": "execute_result"
    }
   ],
   "source": [
    "snapshot = graph.get_state(config)\n",
    "snapshot"
   ]
  },
  {
   "cell_type": "code",
   "execution_count": 9,
   "id": "ce8fc56f-16de-4449-a6c7-5df689f5be18",
   "metadata": {},
   "outputs": [
    {
     "data": {
      "text/plain": [
       "{'total': 11}"
      ]
     },
     "execution_count": 9,
     "metadata": {},
     "output_type": "execute_result"
    }
   ],
   "source": [
    "snapshot.values"
   ]
  },
  {
   "cell_type": "code",
   "execution_count": 10,
   "id": "54526018-520e-49aa-99e2-cf5b51de8200",
   "metadata": {},
   "outputs": [
    {
     "name": "stdout",
     "output_type": "stream",
     "text": [
      "-1 checkpoint {'total': 0}\n",
      "0 checkpoint {'total': 1}\n",
      "1 task None\n",
      "1 task_result None\n",
      "1 checkpoint {'total': 2}\n",
      "2 task None\n",
      "2 task_result None\n",
      "2 checkpoint {'total': 4}\n",
      "3 task None\n",
      "3 task_result None\n",
      "3 checkpoint {'total': 5}\n",
      "4 task None\n",
      "4 task_result None\n",
      "4 checkpoint {'total': 10}\n",
      "5 task None\n",
      "5 task_result None\n",
      "5 checkpoint {'total': 11}\n"
     ]
    }
   ],
   "source": [
    "thread_id = \"other-thread\"\n",
    "config = {\"configurable\": {\"thread_id\": thread_id}}\n",
    "\n",
    "for step in graph.stream({\"total\": 1}, config, stream_mode=\"debug\"):\n",
    "    print(step[\"step\"], step[\"type\"], step[\"payload\"].get(\"values\"))"
   ]
  },
  {
   "cell_type": "code",
   "execution_count": 11,
   "id": "5d105d09-d4b4-4c40-8e2d-1b7aca9e2ddd",
   "metadata": {},
   "outputs": [
    {
     "name": "stdout",
     "output_type": "stream",
     "text": [
      "6 checkpoint {'total': 11}\n",
      "7 checkpoint {'total': 9}\n",
      "8 task None\n",
      "8 task_result None\n",
      "8 checkpoint {'total': 10}\n"
     ]
    }
   ],
   "source": [
    "for step in graph.stream(\n",
    "    {\"total\": -2, \"turn\": \"First Turn\"}, config, stream_mode=\"debug\"\n",
    "):\n",
    "    print(step[\"step\"], step[\"type\"], step[\"payload\"].get(\"values\"))"
   ]
  },
  {
   "cell_type": "code",
   "execution_count": null,
   "id": "9959c526-360c-468a-91e6-84e16edd49c3",
   "metadata": {},
   "outputs": [],
   "source": []
  }
 ],
 "metadata": {
  "kernelspec": {
   "display_name": "Python 3 (ipykernel)",
   "language": "python",
   "name": "python3"
  },
  "language_info": {
   "codemirror_mode": {
    "name": "ipython",
    "version": 3
   },
   "file_extension": ".py",
   "mimetype": "text/x-python",
   "name": "python",
   "nbconvert_exporter": "python",
   "pygments_lexer": "ipython3",
   "version": "3.11.9"
  }
 },
 "nbformat": 4,
 "nbformat_minor": 5
}
