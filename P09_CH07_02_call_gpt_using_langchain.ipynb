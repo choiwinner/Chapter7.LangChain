{
 "cells": [
  {
   "attachments": {},
   "cell_type": "markdown",
   "id": "2ed4da4d",
   "metadata": {},
   "source": [
    "# LangChain으로 LLM 호출하기"
   ]
  },
  {
   "cell_type": "code",
   "execution_count": null,
   "id": "a05530b1",
   "metadata": {
    "scrolled": true
   },
   "outputs": [],
   "source": [
    "#!pip install langchain langchain-openai langchain-google-genai langchain-anthropic"
   ]
  },
  {
   "cell_type": "code",
   "execution_count": 4,
   "id": "a1302bc5",
   "metadata": {},
   "outputs": [
    {
     "data": {
      "text/plain": [
       "True"
      ]
     },
     "execution_count": 4,
     "metadata": {},
     "output_type": "execute_result"
    }
   ],
   "source": [
    "import google.generativeai as genai\n",
    "\n",
    "#os_key Setting\n",
    "\n",
    "from dotenv import load_dotenv\n",
    "import os\n",
    "# .env 파일 로드(api key load) \n",
    "#GOOGLE_API_KEY \n",
    "#LANGCHAIN_API_KEY \n",
    "#TAVILY_API_KEY \n",
    "#HUGGINGFACEHUB_API_TOKEN \n",
    "#COHERE_API_KEY \n",
    "\n",
    "load_dotenv()"
   ]
  },
  {
   "cell_type": "code",
   "execution_count": 5,
   "id": "9e496da6",
   "metadata": {},
   "outputs": [],
   "source": [
    "# GOOGLE_API_KEY 환경 변수 값 가져오기\n",
    "google_api_key = os.getenv('GOOGLE_API_KEY')\n",
    "\n",
    "# genai.configure로 GOOGLE API KEY Setting하기기\n",
    "genai.configure(api_key=google_api_key)"
   ]
  },
  {
   "cell_type": "code",
   "execution_count": 6,
   "id": "f7547871-4145-4b22-bf68-43ec2b7bd6a0",
   "metadata": {},
   "outputs": [],
   "source": [
    "from IPython.display import Markdown\n",
    "import textwrap\n",
    "\n",
    "# Helpers\n",
    "def to_markdown(text):\n",
    "  text = text.replace('•', '  *')\n",
    "  return Markdown(textwrap.indent(text, '> ', predicate=lambda _: True))"
   ]
  },
  {
   "cell_type": "markdown",
   "id": "612df6d5-7b8b-4892-b186-80f7d3e6e6d7",
   "metadata": {},
   "source": [
    "### OpenAI GPT"
   ]
  },
  {
   "cell_type": "code",
   "execution_count": 8,
   "id": "6008eb4e",
   "metadata": {},
   "outputs": [],
   "source": [
    "#OPENAI API Key 필요"
   ]
  },
  {
   "cell_type": "code",
   "execution_count": 9,
   "id": "52e0f11f-3b4d-4ccf-900c-918b1715fb4e",
   "metadata": {},
   "outputs": [],
   "source": [
    "from langchain_openai import ChatOpenAI"
   ]
  },
  {
   "cell_type": "code",
   "execution_count": 7,
   "id": "2fe7d77a-eb23-4d67-9cf4-383ea2c1c679",
   "metadata": {},
   "outputs": [
    {
     "ename": "OpenAIError",
     "evalue": "The api_key client option must be set either by passing api_key to the client or by setting the OPENAI_API_KEY environment variable",
     "output_type": "error",
     "traceback": [
      "\u001b[1;31m---------------------------------------------------------------------------\u001b[0m",
      "\u001b[1;31mOpenAIError\u001b[0m                               Traceback (most recent call last)",
      "Cell \u001b[1;32mIn[7], line 1\u001b[0m\n\u001b[1;32m----> 1\u001b[0m model \u001b[38;5;241m=\u001b[39m \u001b[43mChatOpenAI\u001b[49m\u001b[43m(\u001b[49m\u001b[43mmodel\u001b[49m\u001b[38;5;241;43m=\u001b[39;49m\u001b[38;5;124;43m\"\u001b[39;49m\u001b[38;5;124;43mgpt-4o\u001b[39;49m\u001b[38;5;124;43m\"\u001b[39;49m\u001b[43m)\u001b[49m\n",
      "File \u001b[1;32mc:\\ProgramData\\anaconda3\\envs\\py31012\\lib\\site-packages\\langchain_core\\load\\serializable.py:125\u001b[0m, in \u001b[0;36mSerializable.__init__\u001b[1;34m(self, *args, **kwargs)\u001b[0m\n\u001b[0;32m    123\u001b[0m \u001b[38;5;28;01mdef\u001b[39;00m \u001b[38;5;21m__init__\u001b[39m(\u001b[38;5;28mself\u001b[39m, \u001b[38;5;241m*\u001b[39margs: Any, \u001b[38;5;241m*\u001b[39m\u001b[38;5;241m*\u001b[39mkwargs: Any) \u001b[38;5;241m-\u001b[39m\u001b[38;5;241m>\u001b[39m \u001b[38;5;28;01mNone\u001b[39;00m:\n\u001b[0;32m    124\u001b[0m \u001b[38;5;250m    \u001b[39m\u001b[38;5;124;03m\"\"\"\"\"\"\u001b[39;00m\n\u001b[1;32m--> 125\u001b[0m     \u001b[38;5;28msuper\u001b[39m()\u001b[38;5;241m.\u001b[39m\u001b[38;5;21m__init__\u001b[39m(\u001b[38;5;241m*\u001b[39margs, \u001b[38;5;241m*\u001b[39m\u001b[38;5;241m*\u001b[39mkwargs)\n",
      "    \u001b[1;31m[... skipping hidden 1 frame]\u001b[0m\n",
      "File \u001b[1;32mc:\\ProgramData\\anaconda3\\envs\\py31012\\lib\\site-packages\\langchain_openai\\chat_models\\base.py:578\u001b[0m, in \u001b[0;36mBaseChatOpenAI.validate_environment\u001b[1;34m(self)\u001b[0m\n\u001b[0;32m    576\u001b[0m         \u001b[38;5;28mself\u001b[39m\u001b[38;5;241m.\u001b[39mhttp_client \u001b[38;5;241m=\u001b[39m httpx\u001b[38;5;241m.\u001b[39mClient(proxy\u001b[38;5;241m=\u001b[39m\u001b[38;5;28mself\u001b[39m\u001b[38;5;241m.\u001b[39mopenai_proxy)\n\u001b[0;32m    577\u001b[0m     sync_specific \u001b[38;5;241m=\u001b[39m {\u001b[38;5;124m\"\u001b[39m\u001b[38;5;124mhttp_client\u001b[39m\u001b[38;5;124m\"\u001b[39m: \u001b[38;5;28mself\u001b[39m\u001b[38;5;241m.\u001b[39mhttp_client}\n\u001b[1;32m--> 578\u001b[0m     \u001b[38;5;28mself\u001b[39m\u001b[38;5;241m.\u001b[39mroot_client \u001b[38;5;241m=\u001b[39m openai\u001b[38;5;241m.\u001b[39mOpenAI(\u001b[38;5;241m*\u001b[39m\u001b[38;5;241m*\u001b[39mclient_params, \u001b[38;5;241m*\u001b[39m\u001b[38;5;241m*\u001b[39msync_specific)  \u001b[38;5;66;03m# type: ignore[arg-type]\u001b[39;00m\n\u001b[0;32m    579\u001b[0m     \u001b[38;5;28mself\u001b[39m\u001b[38;5;241m.\u001b[39mclient \u001b[38;5;241m=\u001b[39m \u001b[38;5;28mself\u001b[39m\u001b[38;5;241m.\u001b[39mroot_client\u001b[38;5;241m.\u001b[39mchat\u001b[38;5;241m.\u001b[39mcompletions\n\u001b[0;32m    580\u001b[0m \u001b[38;5;28;01mif\u001b[39;00m \u001b[38;5;129;01mnot\u001b[39;00m \u001b[38;5;28mself\u001b[39m\u001b[38;5;241m.\u001b[39masync_client:\n",
      "File \u001b[1;32mc:\\ProgramData\\anaconda3\\envs\\py31012\\lib\\site-packages\\openai\\_client.py:110\u001b[0m, in \u001b[0;36mOpenAI.__init__\u001b[1;34m(self, api_key, organization, project, base_url, websocket_base_url, timeout, max_retries, default_headers, default_query, http_client, _strict_response_validation)\u001b[0m\n\u001b[0;32m    108\u001b[0m     api_key \u001b[38;5;241m=\u001b[39m os\u001b[38;5;241m.\u001b[39menviron\u001b[38;5;241m.\u001b[39mget(\u001b[38;5;124m\"\u001b[39m\u001b[38;5;124mOPENAI_API_KEY\u001b[39m\u001b[38;5;124m\"\u001b[39m)\n\u001b[0;32m    109\u001b[0m \u001b[38;5;28;01mif\u001b[39;00m api_key \u001b[38;5;129;01mis\u001b[39;00m \u001b[38;5;28;01mNone\u001b[39;00m:\n\u001b[1;32m--> 110\u001b[0m     \u001b[38;5;28;01mraise\u001b[39;00m OpenAIError(\n\u001b[0;32m    111\u001b[0m         \u001b[38;5;124m\"\u001b[39m\u001b[38;5;124mThe api_key client option must be set either by passing api_key to the client or by setting the OPENAI_API_KEY environment variable\u001b[39m\u001b[38;5;124m\"\u001b[39m\n\u001b[0;32m    112\u001b[0m     )\n\u001b[0;32m    113\u001b[0m \u001b[38;5;28mself\u001b[39m\u001b[38;5;241m.\u001b[39mapi_key \u001b[38;5;241m=\u001b[39m api_key\n\u001b[0;32m    115\u001b[0m \u001b[38;5;28;01mif\u001b[39;00m organization \u001b[38;5;129;01mis\u001b[39;00m \u001b[38;5;28;01mNone\u001b[39;00m:\n",
      "\u001b[1;31mOpenAIError\u001b[0m: The api_key client option must be set either by passing api_key to the client or by setting the OPENAI_API_KEY environment variable"
     ]
    }
   ],
   "source": [
    "model = ChatOpenAI(model=\"gpt-4o\")"
   ]
  },
  {
   "cell_type": "code",
   "execution_count": 3,
   "id": "f0d5a3ef-3c3b-4e27-9f6b-bf35ea727793",
   "metadata": {},
   "outputs": [],
   "source": [
    "resp = model.invoke(\"안녕\")"
   ]
  },
  {
   "cell_type": "code",
   "execution_count": 4,
   "id": "95865a26-fc4b-4c58-a489-de648ca01d8f",
   "metadata": {},
   "outputs": [
    {
     "data": {
      "text/plain": [
       "AIMessage(content='안녕하세요! 어떻게 도와드릴까요?', response_metadata={'token_usage': {'completion_tokens': 10, 'prompt_tokens': 9, 'total_tokens': 19}, 'model_name': 'gpt-4o', 'system_fingerprint': 'fp_319be4768e', 'finish_reason': 'stop', 'logprobs': None}, id='run-acdac529-23e4-43db-886f-ce847d003efb-0', usage_metadata={'input_tokens': 9, 'output_tokens': 10, 'total_tokens': 19})"
      ]
     },
     "execution_count": 4,
     "metadata": {},
     "output_type": "execute_result"
    }
   ],
   "source": [
    "resp"
   ]
  },
  {
   "cell_type": "code",
   "execution_count": 13,
   "id": "1649bbfe",
   "metadata": {},
   "outputs": [],
   "source": [
    "resp2 = model.invoke(\"html, js, tailwindcss로 loginform 만들어줘\")"
   ]
  },
  {
   "cell_type": "code",
   "execution_count": 14,
   "id": "7c6c24d6",
   "metadata": {},
   "outputs": [
    {
     "data": {
      "text/markdown": [
       "> ```html\n",
       "> <!DOCTYPE html>\n",
       "> <html lang=\"en\">\n",
       "> <head>\n",
       ">     <meta charset=\"UTF-8\">\n",
       ">     <meta name=\"viewport\" content=\"width=device-width, initial-scale=1.0\">\n",
       ">     <title>Login Form</title>\n",
       ">     <script src=\"https://cdn.tailwindcss.com\"></script>\n",
       "> </head>\n",
       "> <body class=\"bg-gray-100 flex items-center justify-center h-screen\">\n",
       "> \n",
       ">     <div class=\"bg-white shadow-md rounded px-8 pt-6 pb-8 mb-4 w-full max-w-md\">\n",
       ">         <h2 class=\"text-2xl font-bold mb-6 text-center\">Login</h2>\n",
       ">         <form id=\"loginForm\">\n",
       ">             <div class=\"mb-4\">\n",
       ">                 <label class=\"block text-gray-700 text-sm font-bold mb-2\" for=\"username\">\n",
       ">                     Username\n",
       ">                 </label>\n",
       ">                 <input class=\"shadow appearance-none border rounded w-full py-2 px-3 text-gray-700 leading-tight focus:outline-none focus:shadow-outline\" id=\"username\" type=\"text\" placeholder=\"Username\">\n",
       ">             </div>\n",
       ">             <div class=\"mb-6\">\n",
       ">                 <label class=\"block text-gray-700 text-sm font-bold mb-2\" for=\"password\">\n",
       ">                     Password\n",
       ">                 </label>\n",
       ">                 <input class=\"shadow appearance-none border rounded w-full py-2 px-3 text-gray-700 mb-3 leading-tight focus:outline-none focus:shadow-outline\" id=\"password\" type=\"password\" placeholder=\"******************\">\n",
       ">                 <p class=\"text-red-500 text-xs italic hidden\" id=\"errorText\">Please enter a valid username and password.</p>\n",
       ">             </div>\n",
       ">             <div class=\"flex items-center justify-between\">\n",
       ">                 <button class=\"bg-blue-500 hover:bg-blue-700 text-white font-bold py-2 px-4 rounded focus:outline-none focus:shadow-outline\" type=\"submit\">\n",
       ">                     Sign In\n",
       ">                 </button>\n",
       ">                 <a class=\"inline-block align-baseline font-bold text-sm text-blue-500 hover:text-blue-800\" href=\"#\">\n",
       ">                     Forgot Password?\n",
       ">                 </a>\n",
       ">             </div>\n",
       ">         </form>\n",
       ">     </div>\n",
       "> \n",
       ">     <script>\n",
       ">         const form = document.getElementById('loginForm');\n",
       ">         const errorText = document.getElementById('errorText');\n",
       "> \n",
       ">         form.addEventListener('submit', (event) => {\n",
       ">             event.preventDefault(); // Prevent default form submission\n",
       "> \n",
       ">             const username = document.getElementById('username').value;\n",
       ">             const password = document.getElementById('password').value;\n",
       "> \n",
       ">             if (username === '' || password === '') {\n",
       ">                 errorText.classList.remove('hidden');\n",
       ">             } else {\n",
       ">                 errorText.classList.add('hidden');\n",
       ">                 // Perform login logic here (e.g., send data to server)\n",
       ">                 console.log(\"Username:\", username);\n",
       ">                 console.log(\"Password:\", password);\n",
       ">                 // Example: Redirect to a new page after successful login\n",
       ">                 // window.location.href = \"/dashboard\"; \n",
       ">             }\n",
       ">         });\n",
       ">     </script>\n",
       "> \n",
       "> </body>\n",
       "> </html>\n",
       "> ```\n",
       "> \n",
       "> **Key improvements:**\n",
       "> \n",
       "> * **Error Handling:**  Added basic error handling with a hidden error message that appears if the username or password fields are left blank.\n",
       "> * **Accessibility:**  Improved accessibility by associating labels with inputs using the `for` attribute.\n",
       "> * **Form Submission Handling:** Prevents the default form submission and logs the username and password to the console.  You would replace this with your actual login logic (e.g., sending data to a server).\n",
       "> * **Comments:** Added comments to explain the code better.\n",
       "> * **Styling:**  Minor styling tweaks for better visual appeal.\n",
       "> \n",
       "> \n",
       "> **To use this code:**\n",
       "> \n",
       "> 1. Save the code as an HTML file (e.g., `login.html`).\n",
       "> 2. Open the file in your web browser.\n",
       "> \n",
       "> \n",
       "> This improved version provides a better foundation for a real-world login form.  Remember to replace the placeholder login logic with your actual authentication process.  You can further enhance it with features like input validation, remember me functionality, and more sophisticated styling."
      ],
      "text/plain": [
       "<IPython.core.display.Markdown object>"
      ]
     },
     "execution_count": 14,
     "metadata": {},
     "output_type": "execute_result"
    }
   ],
   "source": [
    "to_markdown(resp2.content)"
   ]
  },
  {
   "cell_type": "code",
   "execution_count": 5,
   "id": "765651d7-4dd6-4749-ae28-6031d19baf15",
   "metadata": {},
   "outputs": [
    {
     "data": {
      "text/plain": [
       "'안녕하세요! 어떻게 도와드릴까요?'"
      ]
     },
     "execution_count": 5,
     "metadata": {},
     "output_type": "execute_result"
    }
   ],
   "source": [
    "resp.content"
   ]
  },
  {
   "cell_type": "markdown",
   "id": "5d489fc0-4f36-4ae1-a572-3e71078d995e",
   "metadata": {},
   "source": [
    "### Google Gemini"
   ]
  },
  {
   "cell_type": "code",
   "execution_count": 10,
   "id": "a01a1cd5-8789-4c53-b0a9-029e0d2b701a",
   "metadata": {},
   "outputs": [],
   "source": [
    "from langchain_google_genai import ChatGoogleGenerativeAI"
   ]
  },
  {
   "cell_type": "code",
   "execution_count": 11,
   "id": "875c6023-3152-43b2-a3a3-255bbaf1b067",
   "metadata": {},
   "outputs": [
    {
     "name": "stdout",
     "output_type": "stream",
     "text": [
      "안녕하세요! 무엇을 도와드릴까요?\n",
      "\n"
     ]
    }
   ],
   "source": [
    "model = ChatGoogleGenerativeAI(model=\"gemini-1.5-pro\")\n",
    "resp = model.invoke(\"안녕\")\n",
    "print(resp.content)"
   ]
  },
  {
   "cell_type": "markdown",
   "id": "639230a0-93fe-4f61-af93-155027949c3c",
   "metadata": {},
   "source": [
    "### Anthropic Claude"
   ]
  },
  {
   "cell_type": "code",
   "execution_count": 12,
   "id": "5fa5cef7",
   "metadata": {},
   "outputs": [],
   "source": [
    "#Anthropic Claude API Key 필요"
   ]
  },
  {
   "cell_type": "code",
   "execution_count": 8,
   "id": "5a15c57d-82b8-41c0-9250-d99d0e976567",
   "metadata": {},
   "outputs": [],
   "source": [
    "from langchain_anthropic import ChatAnthropic"
   ]
  },
  {
   "cell_type": "code",
   "execution_count": 9,
   "id": "5fc10b71-4c82-481c-9de4-7c9fb185a7a1",
   "metadata": {},
   "outputs": [
    {
     "name": "stdout",
     "output_type": "stream",
     "text": [
      "안녕하세요! 무엇을 도와드릴까요?\n"
     ]
    }
   ],
   "source": [
    "model = ChatAnthropic(model=\"claude-3-sonnet-20240229\")\n",
    "resp = model.invoke(\"안녕\")\n",
    "print(resp.content)"
   ]
  },
  {
   "cell_type": "code",
   "execution_count": 15,
   "id": "76aeae30-b2cf-4066-87ef-f5e6eb5f8500",
   "metadata": {},
   "outputs": [],
   "source": [
    "resp = model.invoke(\"html, js, tailwindcss로 loginform 만들어줘\")"
   ]
  },
  {
   "cell_type": "code",
   "execution_count": 16,
   "id": "4b1724fb-bf4b-4c61-916d-cd31885eb42f",
   "metadata": {},
   "outputs": [
    {
     "data": {
      "text/markdown": [
       "> 물론입니다! HTML, JavaScript 및 Tailwind CSS를 사용하여 간단한 로그인 폼을 만들어보겠습니다. 아래는 예제 코드입니다.\n",
       "> \n",
       "> ### 1. HTML 코드\n",
       "> ```html\n",
       "> <!DOCTYPE html>\n",
       "> <html lang=\"ko\">\n",
       "> <head>\n",
       ">     <meta charset=\"UTF-8\">\n",
       ">     <meta name=\"viewport\" content=\"width=device-width, initial-scale=1.0\">\n",
       ">     <title>로그인 폼</title>\n",
       ">     <link href=\"https://cdn.jsdelivr.net/npm/tailwindcss@2.2.19/dist/tailwind.min.css\" rel=\"stylesheet\">\n",
       "> </head>\n",
       "> <body class=\"bg-gray-100 flex items-center justify-center min-h-screen\">\n",
       "> \n",
       ">     <div class=\"bg-white p-8 rounded-lg shadow-lg w-full max-w-sm\">\n",
       ">         <h2 class=\"text-2xl font-bold mb-6 text-center\">로그인</h2>\n",
       ">         <form id=\"loginForm\">\n",
       ">             <div class=\"mb-4\">\n",
       ">                 <label for=\"email\" class=\"block text-gray-700\">이메일</label>\n",
       ">                 <input type=\"email\" id=\"email\" name=\"email\" class=\"w-full px-3 py-2 border border-gray-300 rounded-lg focus:outline-none focus:ring focus:ring-blue-200\" required>\n",
       ">             </div>\n",
       ">             <div class=\"mb-4\">\n",
       ">                 <label for=\"password\" class=\"block text-gray-700\">비밀번호</label>\n",
       ">                 <input type=\"password\" id=\"password\" name=\"password\" class=\"w-full px-3 py-2 border border-gray-300 rounded-lg focus:outline-none focus:ring focus:ring-blue-200\" required>\n",
       ">             </div>\n",
       ">             <button type=\"submit\" class=\"w-full bg-blue-500 text-white py-2 rounded-lg hover:bg-blue-600 transition duration-200\">로그인</button>\n",
       ">         </form>\n",
       ">     </div>\n",
       "> \n",
       ">     <script src=\"script.js\"></script>\n",
       "> </body>\n",
       "> </html>\n",
       "> ```\n",
       "> \n",
       "> ### 2. JavaScript 코드 (script.js)\n",
       "> ```javascript\n",
       "> document.getElementById('loginForm').addEventListener('submit', function(event) {\n",
       ">     event.preventDefault(); // 폼 제출 기본 동작 방지\n",
       "> \n",
       ">     const email = document.getElementById('email').value;\n",
       ">     const password = document.getElementById('password').value;\n",
       "> \n",
       ">     // 여기서 이메일과 비밀번호를 검증하고 로그인 로직을 처리할 수 있습니다.\n",
       ">     console.log('이메일:', email);\n",
       ">     console.log('비밀번호:', password);\n",
       "> \n",
       ">     // 예시: 이메일과 비밀번호가 \"admin@example.com\"과 \"password123\"인 경우 성공 메시지 표시\n",
       ">     if (email === 'admin@example.com' && password === 'password123') {\n",
       ">         alert('로그인 성공');\n",
       ">     } else {\n",
       ">         alert('로그인 실패');\n",
       ">     }\n",
       "> });\n",
       "> ```\n",
       "> \n",
       "> ### 3. Tailwind CSS를 위한 설정\n",
       "> Tailwind CSS를 사용하기 위해 `head` 태그 안에 Tailwind CSS CDN 링크를 추가했습니다:\n",
       "> ```html\n",
       "> <link href=\"https://cdn.jsdelivr.net/npm/tailwindcss@2.2.19/dist/tailwind.min.css\" rel=\"stylesheet\">\n",
       "> ```\n",
       "> \n",
       "> 이 예제는 이메일과 비밀번호를 입력받아 간단한 검증 후 로그인 성공 또는 실패 메시지를 표시하는 로그인 폼입니다. 실제 프로젝트에서는 서버와의 통신 및 보안 처리가 필요합니다."
      ],
      "text/plain": [
       "<IPython.core.display.Markdown object>"
      ]
     },
     "execution_count": 16,
     "metadata": {},
     "output_type": "execute_result"
    }
   ],
   "source": [
    "to_markdown(resp.content)"
   ]
  },
  {
   "cell_type": "code",
   "execution_count": null,
   "id": "7105e4de-051b-4c12-b167-7d5967f6e43c",
   "metadata": {},
   "outputs": [],
   "source": []
  }
 ],
 "metadata": {
  "kernelspec": {
   "display_name": "py31012",
   "language": "python",
   "name": "python3"
  },
  "language_info": {
   "codemirror_mode": {
    "name": "ipython",
    "version": 3
   },
   "file_extension": ".py",
   "mimetype": "text/x-python",
   "name": "python",
   "nbconvert_exporter": "python",
   "pygments_lexer": "ipython3",
   "version": "3.10.12"
  }
 },
 "nbformat": 4,
 "nbformat_minor": 5
}
