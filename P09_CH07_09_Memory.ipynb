{
 "cells": [
  {
   "cell_type": "markdown",
   "id": "1ef023f8-41b2-41a3-b0cc-0717b99fe256",
   "metadata": {},
   "source": [
    "# Memory"
   ]
  },
  {
   "cell_type": "code",
   "execution_count": 1,
   "id": "5978bec8-bc21-4ce3-a260-7d13dfa07d91",
   "metadata": {
    "scrolled": true
   },
   "outputs": [
    {
     "name": "stdout",
     "output_type": "stream",
     "text": [
      "Requirement already satisfied: langchain_community in /Users/user/miniconda3/envs/fc-ai-signature/lib/python3.11/site-packages (0.2.4)\n",
      "Requirement already satisfied: PyYAML>=5.3 in /Users/user/miniconda3/envs/fc-ai-signature/lib/python3.11/site-packages (from langchain_community) (6.0.1)\n",
      "Requirement already satisfied: SQLAlchemy<3,>=1.4 in /Users/user/miniconda3/envs/fc-ai-signature/lib/python3.11/site-packages (from langchain_community) (2.0.30)\n",
      "Requirement already satisfied: aiohttp<4.0.0,>=3.8.3 in /Users/user/miniconda3/envs/fc-ai-signature/lib/python3.11/site-packages (from langchain_community) (3.9.5)\n",
      "Requirement already satisfied: dataclasses-json<0.7,>=0.5.7 in /Users/user/miniconda3/envs/fc-ai-signature/lib/python3.11/site-packages (from langchain_community) (0.6.6)\n",
      "Requirement already satisfied: langchain<0.3.0,>=0.2.0 in /Users/user/miniconda3/envs/fc-ai-signature/lib/python3.11/site-packages (from langchain_community) (0.2.3)\n",
      "Requirement already satisfied: langchain-core<0.3.0,>=0.2.0 in /Users/user/miniconda3/envs/fc-ai-signature/lib/python3.11/site-packages (from langchain_community) (0.2.5)\n",
      "Requirement already satisfied: langsmith<0.2.0,>=0.1.0 in /Users/user/miniconda3/envs/fc-ai-signature/lib/python3.11/site-packages (from langchain_community) (0.1.75)\n",
      "Requirement already satisfied: numpy<2,>=1 in /Users/user/miniconda3/envs/fc-ai-signature/lib/python3.11/site-packages (from langchain_community) (1.26.4)\n",
      "Requirement already satisfied: requests<3,>=2 in /Users/user/miniconda3/envs/fc-ai-signature/lib/python3.11/site-packages (from langchain_community) (2.32.2)\n",
      "Requirement already satisfied: tenacity<9.0.0,>=8.1.0 in /Users/user/miniconda3/envs/fc-ai-signature/lib/python3.11/site-packages (from langchain_community) (8.3.0)\n",
      "Requirement already satisfied: aiosignal>=1.1.2 in /Users/user/miniconda3/envs/fc-ai-signature/lib/python3.11/site-packages (from aiohttp<4.0.0,>=3.8.3->langchain_community) (1.3.1)\n",
      "Requirement already satisfied: attrs>=17.3.0 in /Users/user/miniconda3/envs/fc-ai-signature/lib/python3.11/site-packages (from aiohttp<4.0.0,>=3.8.3->langchain_community) (23.2.0)\n",
      "Requirement already satisfied: frozenlist>=1.1.1 in /Users/user/miniconda3/envs/fc-ai-signature/lib/python3.11/site-packages (from aiohttp<4.0.0,>=3.8.3->langchain_community) (1.4.1)\n",
      "Requirement already satisfied: multidict<7.0,>=4.5 in /Users/user/miniconda3/envs/fc-ai-signature/lib/python3.11/site-packages (from aiohttp<4.0.0,>=3.8.3->langchain_community) (6.0.5)\n",
      "Requirement already satisfied: yarl<2.0,>=1.0 in /Users/user/miniconda3/envs/fc-ai-signature/lib/python3.11/site-packages (from aiohttp<4.0.0,>=3.8.3->langchain_community) (1.9.4)\n",
      "Requirement already satisfied: marshmallow<4.0.0,>=3.18.0 in /Users/user/miniconda3/envs/fc-ai-signature/lib/python3.11/site-packages (from dataclasses-json<0.7,>=0.5.7->langchain_community) (3.21.3)\n",
      "Requirement already satisfied: typing-inspect<1,>=0.4.0 in /Users/user/miniconda3/envs/fc-ai-signature/lib/python3.11/site-packages (from dataclasses-json<0.7,>=0.5.7->langchain_community) (0.9.0)\n",
      "Requirement already satisfied: langchain-text-splitters<0.3.0,>=0.2.0 in /Users/user/miniconda3/envs/fc-ai-signature/lib/python3.11/site-packages (from langchain<0.3.0,>=0.2.0->langchain_community) (0.2.1)\n",
      "Requirement already satisfied: pydantic<3,>=1 in /Users/user/miniconda3/envs/fc-ai-signature/lib/python3.11/site-packages (from langchain<0.3.0,>=0.2.0->langchain_community) (2.7.1)\n",
      "Requirement already satisfied: jsonpatch<2.0,>=1.33 in /Users/user/miniconda3/envs/fc-ai-signature/lib/python3.11/site-packages (from langchain-core<0.3.0,>=0.2.0->langchain_community) (1.33)\n",
      "Requirement already satisfied: packaging<24.0,>=23.2 in /Users/user/miniconda3/envs/fc-ai-signature/lib/python3.11/site-packages (from langchain-core<0.3.0,>=0.2.0->langchain_community) (23.2)\n",
      "Requirement already satisfied: orjson<4.0.0,>=3.9.14 in /Users/user/miniconda3/envs/fc-ai-signature/lib/python3.11/site-packages (from langsmith<0.2.0,>=0.1.0->langchain_community) (3.10.3)\n",
      "Requirement already satisfied: charset-normalizer<4,>=2 in /Users/user/miniconda3/envs/fc-ai-signature/lib/python3.11/site-packages (from requests<3,>=2->langchain_community) (3.3.2)\n",
      "Requirement already satisfied: idna<4,>=2.5 in /Users/user/miniconda3/envs/fc-ai-signature/lib/python3.11/site-packages (from requests<3,>=2->langchain_community) (3.7)\n",
      "Requirement already satisfied: urllib3<3,>=1.21.1 in /Users/user/miniconda3/envs/fc-ai-signature/lib/python3.11/site-packages (from requests<3,>=2->langchain_community) (2.2.1)\n",
      "Requirement already satisfied: certifi>=2017.4.17 in /Users/user/miniconda3/envs/fc-ai-signature/lib/python3.11/site-packages (from requests<3,>=2->langchain_community) (2024.2.2)\n",
      "Requirement already satisfied: typing-extensions>=4.6.0 in /Users/user/miniconda3/envs/fc-ai-signature/lib/python3.11/site-packages (from SQLAlchemy<3,>=1.4->langchain_community) (4.11.0)\n",
      "Requirement already satisfied: jsonpointer>=1.9 in /Users/user/miniconda3/envs/fc-ai-signature/lib/python3.11/site-packages (from jsonpatch<2.0,>=1.33->langchain-core<0.3.0,>=0.2.0->langchain_community) (2.4)\n",
      "Requirement already satisfied: annotated-types>=0.4.0 in /Users/user/miniconda3/envs/fc-ai-signature/lib/python3.11/site-packages (from pydantic<3,>=1->langchain<0.3.0,>=0.2.0->langchain_community) (0.7.0)\n",
      "Requirement already satisfied: pydantic-core==2.18.2 in /Users/user/miniconda3/envs/fc-ai-signature/lib/python3.11/site-packages (from pydantic<3,>=1->langchain<0.3.0,>=0.2.0->langchain_community) (2.18.2)\n",
      "Requirement already satisfied: mypy-extensions>=0.3.0 in /Users/user/miniconda3/envs/fc-ai-signature/lib/python3.11/site-packages (from typing-inspect<1,>=0.4.0->dataclasses-json<0.7,>=0.5.7->langchain_community) (1.0.0)\n"
     ]
    }
   ],
   "source": [
    "!pip install langchain_community"
   ]
  },
  {
   "cell_type": "code",
   "execution_count": 2,
   "id": "449e7e7a-005a-4ac7-80ad-2f0308d81d3e",
   "metadata": {},
   "outputs": [],
   "source": [
    "from langchain_openai import ChatOpenAI"
   ]
  },
  {
   "cell_type": "code",
   "execution_count": 3,
   "id": "280f22a2-710b-47fa-a376-c922e9d7aa6b",
   "metadata": {},
   "outputs": [],
   "source": [
    "model = ChatOpenAI(model=\"gpt-4o\")"
   ]
  },
  {
   "cell_type": "code",
   "execution_count": 4,
   "id": "49159979-9612-4f4d-86d6-941ffa86e67f",
   "metadata": {},
   "outputs": [],
   "source": [
    "from langchain_core.messages import HumanMessage"
   ]
  },
  {
   "cell_type": "code",
   "execution_count": 5,
   "id": "2653b739-a79a-4ed3-a331-947761118a96",
   "metadata": {},
   "outputs": [
    {
     "data": {
      "text/plain": [
       "'안녕하세요, Liam! 만나서 반가워요. 오늘 어떻게 도와드릴까요?'"
      ]
     },
     "execution_count": 5,
     "metadata": {},
     "output_type": "execute_result"
    }
   ],
   "source": [
    "model.invoke([HumanMessage(content=\"안녕 내 이름은 Liam이야\")]).content"
   ]
  },
  {
   "cell_type": "code",
   "execution_count": 6,
   "id": "d799e31d-a503-4356-af0d-b521a32e09dd",
   "metadata": {},
   "outputs": [
    {
     "data": {
      "text/plain": [
       "'죄송하지만, 나는 당신의 이름을 알 수 없습니다. 당신의 이름을 알려주시면, 그 이름으로 대화할 수 있습니다. 어떻게 도와드릴까요?'"
      ]
     },
     "execution_count": 6,
     "metadata": {},
     "output_type": "execute_result"
    }
   ],
   "source": [
    "model.invoke([HumanMessage(content=\"내 이름이 뭐야?\")]).content"
   ]
  },
  {
   "cell_type": "code",
   "execution_count": 7,
   "id": "2e52412a-f264-470d-b6c8-434eae9ad129",
   "metadata": {},
   "outputs": [],
   "source": [
    "from langchain_core.messages import AIMessage"
   ]
  },
  {
   "cell_type": "code",
   "execution_count": 8,
   "id": "5c4591a5-29f8-41d4-9ae8-8516af2fb53a",
   "metadata": {},
   "outputs": [
    {
     "data": {
      "text/plain": [
       "'당신의 이름은 Liam이라고 말씀하셨죠. 다른 궁금한 점이나 도움이 필요한 것이 있나요?'"
      ]
     },
     "execution_count": 8,
     "metadata": {},
     "output_type": "execute_result"
    }
   ],
   "source": [
    "model.invoke(\n",
    "    [\n",
    "        HumanMessage(content=\"안녕 내 이름은 Liam이야\"),\n",
    "        AIMessage(content=\"반가워 Liam! 만나서 반가워요. 무엇을 도와드릴까요?\"),\n",
    "        HumanMessage(content=\"내 이름이 뭐야?\"),\n",
    "    ]\n",
    ").content"
   ]
  },
  {
   "cell_type": "markdown",
   "id": "1abc53b8-4a61-4320-a8c7-27980c66e10e",
   "metadata": {},
   "source": [
    "## Message History"
   ]
  },
  {
   "cell_type": "code",
   "execution_count": 9,
   "id": "039b2f01-b7ab-4feb-b049-212d95034347",
   "metadata": {},
   "outputs": [],
   "source": [
    "from langchain_community.chat_message_histories import ChatMessageHistory\n",
    "from langchain_core.chat_history import BaseChatMessageHistory\n",
    "from langchain_core.runnables.history import RunnableWithMessageHistory"
   ]
  },
  {
   "cell_type": "code",
   "execution_count": 10,
   "id": "7230dd47-9290-448a-accc-85c032062fc1",
   "metadata": {},
   "outputs": [],
   "source": [
    "store = {}\n",
    "\n",
    "\n",
    "def get_session_history(session_id: str) -> BaseChatMessageHistory:\n",
    "    if session_id not in store:\n",
    "        store[session_id] = ChatMessageHistory()\n",
    "    return store[session_id]\n",
    "\n",
    "\n",
    "with_message_history = RunnableWithMessageHistory(model, get_session_history)"
   ]
  },
  {
   "cell_type": "code",
   "execution_count": 11,
   "id": "8e169015-e9dc-4b3e-967b-8537106d298b",
   "metadata": {},
   "outputs": [],
   "source": [
    "config = {\"configurable\": {\"session_id\": \"session_1\"}}"
   ]
  },
  {
   "cell_type": "code",
   "execution_count": 12,
   "id": "5bc4f1a5-db99-48c6-8e8d-23686cf1a4be",
   "metadata": {},
   "outputs": [
    {
     "name": "stderr",
     "output_type": "stream",
     "text": [
      "Parent run 2455a142-ea59-4196-8d70-2226cfd02514 not found for run 436bb066-3df3-4db0-9481-85b71f1d4701. Treating as a root run.\n"
     ]
    },
    {
     "data": {
      "text/plain": [
       "'안녕하세요, Liam! 만나서 반가워요. 오늘 어떻게 지내고 있나요?'"
      ]
     },
     "execution_count": 12,
     "metadata": {},
     "output_type": "execute_result"
    }
   ],
   "source": [
    "response = with_message_history.invoke(\n",
    "    [HumanMessage(content=\"안녕 내 이름은 Liam이야\")],\n",
    "    config=config,\n",
    ")\n",
    "\n",
    "response.content"
   ]
  },
  {
   "cell_type": "code",
   "execution_count": 13,
   "id": "ee096943-efb6-4498-a720-84722c44086c",
   "metadata": {},
   "outputs": [
    {
     "name": "stderr",
     "output_type": "stream",
     "text": [
      "Parent run 22302368-e73f-417b-b640-44e8ba9aa3b5 not found for run 6d9060bb-b522-49b1-9b84-5b941bdebf1a. Treating as a root run.\n"
     ]
    },
    {
     "data": {
      "text/plain": [
       "'당신의 이름은 Liam이죠. 어떻게 도와드릴까요?'"
      ]
     },
     "execution_count": 13,
     "metadata": {},
     "output_type": "execute_result"
    }
   ],
   "source": [
    "response = with_message_history.invoke(\n",
    "    [HumanMessage(content=\"내 이름이 뭐야?\")],\n",
    "    config=config,\n",
    ")\n",
    "\n",
    "response.content"
   ]
  },
  {
   "cell_type": "code",
   "execution_count": 14,
   "id": "c24ab3ff-e5f7-47d7-a4bd-507ae253709f",
   "metadata": {},
   "outputs": [
    {
     "name": "stderr",
     "output_type": "stream",
     "text": [
      "Parent run 83d6d269-2ece-4fc7-96ed-d50f64b28ec3 not found for run 9242af3d-9796-475e-a902-46067a9e6506. Treating as a root run.\n"
     ]
    },
    {
     "data": {
      "text/plain": [
       "'죄송하지만, 당신의 이름을 알 수 있는 방법이 없습니다. 질문이 있거나 도움이 필요하면 언제든지 말씀해 주세요!'"
      ]
     },
     "execution_count": 14,
     "metadata": {},
     "output_type": "execute_result"
    }
   ],
   "source": [
    "config = {\"configurable\": {\"session_id\": \"session_2\"}}\n",
    "\n",
    "response = with_message_history.invoke(\n",
    "    [HumanMessage(content=\"내 이름이 뭐야?\")],\n",
    "    config=config,\n",
    ")\n",
    "\n",
    "response.content"
   ]
  },
  {
   "cell_type": "code",
   "execution_count": 15,
   "id": "32828dd7-53b8-47a9-88bd-e3961a891695",
   "metadata": {},
   "outputs": [
    {
     "name": "stderr",
     "output_type": "stream",
     "text": [
      "Parent run 35b4dfe0-1eaf-4746-9023-3f330654c096 not found for run 51e0fe26-12ca-4ba2-9afe-b40b331ba681. Treating as a root run.\n"
     ]
    },
    {
     "data": {
      "text/plain": [
       "'당신은 Liam이라고 소개하셨어요. 맞나요?'"
      ]
     },
     "execution_count": 15,
     "metadata": {},
     "output_type": "execute_result"
    }
   ],
   "source": [
    "config = {\"configurable\": {\"session_id\": \"session_1\"}}\n",
    "\n",
    "response = with_message_history.invoke(\n",
    "    [HumanMessage(content=\"내 이름이 뭐야?\")],\n",
    "    config=config,\n",
    ")\n",
    "\n",
    "response.content"
   ]
  },
  {
   "cell_type": "markdown",
   "id": "8fb1816b-77a9-4e90-a160-54756b4b1503",
   "metadata": {},
   "source": [
    "## Prompt templates 과 함께 쓰기"
   ]
  },
  {
   "cell_type": "markdown",
   "id": "072bf46d-14e2-4949-985c-fb12ccfbe084",
   "metadata": {},
   "source": [
    "### Chain 만들기"
   ]
  },
  {
   "cell_type": "code",
   "execution_count": 16,
   "id": "02169290-d4e1-43e6-b47f-be2bc82428a3",
   "metadata": {},
   "outputs": [],
   "source": [
    "from langchain_core.prompts import ChatPromptTemplate, MessagesPlaceholder"
   ]
  },
  {
   "cell_type": "code",
   "execution_count": 17,
   "id": "d34098bc-d3b1-4dc7-9aa3-ef6dedf4d27c",
   "metadata": {},
   "outputs": [],
   "source": [
    "prompt = ChatPromptTemplate.from_messages(\n",
    "    [\n",
    "        (\n",
    "            \"system\",\n",
    "            \"너는 도움이 되는 AI Assistant이다. 모든 질문에 최선을 다해 답변하라.\",\n",
    "        ),\n",
    "        MessagesPlaceholder(variable_name=\"messages\"),\n",
    "    ]\n",
    ")\n",
    "\n",
    "chain = prompt | model"
   ]
  },
  {
   "cell_type": "code",
   "execution_count": 18,
   "id": "17aa2bf2-7372-4d1a-a4e5-68fb112631b3",
   "metadata": {},
   "outputs": [
    {
     "data": {
      "text/plain": [
       "'안녕하세요, Liam! 만나서 반가워요. 오늘 어떻게 도와드릴까요?'"
      ]
     },
     "execution_count": 18,
     "metadata": {},
     "output_type": "execute_result"
    }
   ],
   "source": [
    "response = chain.invoke({\"messages\": [HumanMessage(content=\"안녕 난 Liam이야\")]})\n",
    "\n",
    "response.content"
   ]
  },
  {
   "cell_type": "code",
   "execution_count": 19,
   "id": "8d010930-b95e-4c8b-a9ab-31d4fd7cbad5",
   "metadata": {},
   "outputs": [],
   "source": [
    "with_message_history = RunnableWithMessageHistory(chain, get_session_history)"
   ]
  },
  {
   "cell_type": "code",
   "execution_count": 20,
   "id": "0c40f94a-88bb-4325-82eb-54b5a6c8ea7e",
   "metadata": {},
   "outputs": [],
   "source": [
    "config = {\"configurable\": {\"session_id\": \"session_3\"}}"
   ]
  },
  {
   "cell_type": "code",
   "execution_count": 21,
   "id": "580c85aa-e03d-42c5-92e3-ca957fa70bb6",
   "metadata": {},
   "outputs": [
    {
     "name": "stderr",
     "output_type": "stream",
     "text": [
      "Parent run 78db2437-425a-4183-bf9b-184f404be2cc not found for run dbc4c89b-1149-4244-a210-4fa347b63b44. Treating as a root run.\n"
     ]
    },
    {
     "data": {
      "text/plain": [
       "'안녕하세요, David! 만나서 반가워요. 어떻게 도와드릴까요?'"
      ]
     },
     "execution_count": 21,
     "metadata": {},
     "output_type": "execute_result"
    }
   ],
   "source": [
    "response = with_message_history.invoke(\n",
    "    [HumanMessage(content=\"안녕 난 David야\")],\n",
    "    config=config,\n",
    ")\n",
    "\n",
    "response.content"
   ]
  },
  {
   "cell_type": "code",
   "execution_count": 22,
   "id": "93cd912f-e9c6-4415-90ed-e103daa6b8f8",
   "metadata": {},
   "outputs": [
    {
     "name": "stderr",
     "output_type": "stream",
     "text": [
      "Parent run 669462e9-bfdd-4700-9135-d217270a9376 not found for run e1255758-e6a7-478e-98c4-8826081ebff0. Treating as a root run.\n"
     ]
    },
    {
     "data": {
      "text/plain": [
       "'당신의 이름은 David라고 하셨죠. 맞나요?'"
      ]
     },
     "execution_count": 22,
     "metadata": {},
     "output_type": "execute_result"
    }
   ],
   "source": [
    "response = with_message_history.invoke(\n",
    "    [HumanMessage(content=\"내 이름이 뭐야?\")],\n",
    "    config=config,\n",
    ")\n",
    "\n",
    "response.content"
   ]
  },
  {
   "cell_type": "code",
   "execution_count": 72,
   "id": "bcd942eb-fc5f-411c-b1b5-481c46f7ce75",
   "metadata": {},
   "outputs": [],
   "source": [
    "prompt = ChatPromptTemplate.from_messages(\n",
    "    [\n",
    "        (\n",
    "            \"system\",\n",
    "            \"너는 도움이 되는 AI Assistant이다. 다음의 언어로 대답하라: {language}.\",\n",
    "        ),\n",
    "        MessagesPlaceholder(variable_name=\"messages\"),\n",
    "    ]\n",
    ")\n",
    "\n",
    "chain = prompt | model"
   ]
  },
  {
   "cell_type": "code",
   "execution_count": 73,
   "id": "d9733e4e-2127-4b63-8343-ccc061be0f87",
   "metadata": {},
   "outputs": [
    {
     "data": {
      "text/plain": [
       "'¡Hola, Bob! ¿En qué puedo ayudarte hoy?'"
      ]
     },
     "execution_count": 73,
     "metadata": {},
     "output_type": "execute_result"
    }
   ],
   "source": [
    "response = chain.invoke(\n",
    "    {\"messages\": [HumanMessage(content=\"안녕 나는 밥이야\")], \"language\": \"Spanish\"}\n",
    ")\n",
    "\n",
    "response.content"
   ]
  },
  {
   "cell_type": "code",
   "execution_count": 74,
   "id": "cd0a236b-8dd5-4838-a1ff-46d57fa72c70",
   "metadata": {},
   "outputs": [
    {
     "data": {
      "text/plain": [
       "'Hello, Bob! How can I assist you today?'"
      ]
     },
     "execution_count": 74,
     "metadata": {},
     "output_type": "execute_result"
    }
   ],
   "source": [
    "response = chain.invoke(\n",
    "    {\"messages\": [HumanMessage(content=\"안녕 나는 밥이야\")], \"language\": \"English\"}\n",
    ")\n",
    "\n",
    "response.content"
   ]
  },
  {
   "cell_type": "markdown",
   "id": "fe6bfda1-5707-4aab-9694-bf3b5279175e",
   "metadata": {},
   "source": [
    "### RunnableWithMessageHistory 로 감싸기"
   ]
  },
  {
   "cell_type": "code",
   "execution_count": 75,
   "id": "e7e0cfee-9488-4cd7-80fa-3ba35dcac367",
   "metadata": {},
   "outputs": [],
   "source": [
    "with_message_history = RunnableWithMessageHistory(\n",
    "    chain,\n",
    "    get_session_history,\n",
    "    input_messages_key=\"messages\",\n",
    ")"
   ]
  },
  {
   "cell_type": "code",
   "execution_count": 76,
   "id": "d4774192-dcc8-4363-a846-3afccd9b81bd",
   "metadata": {},
   "outputs": [],
   "source": [
    "config = {\"configurable\": {\"session_id\": \"session_4\"}}"
   ]
  },
  {
   "cell_type": "code",
   "execution_count": 77,
   "id": "888ec503-f6d9-4a36-9c5b-01e537fb7f20",
   "metadata": {},
   "outputs": [
    {
     "name": "stderr",
     "output_type": "stream",
     "text": [
      "Parent run b6aa7e14-ca48-495f-b9e1-80068214b52a not found for run 3a010b41-dddb-4283-bb42-666309fdbe7b. Treating as a root run.\n"
     ]
    },
    {
     "data": {
      "text/plain": [
       "'こんにちは、Liamさん。どうぞよろしくお願いします。今日はどのようなことをお手伝いしましょうか？'"
      ]
     },
     "execution_count": 77,
     "metadata": {},
     "output_type": "execute_result"
    }
   ],
   "source": [
    "response = with_message_history.invoke(\n",
    "    {\"messages\": [HumanMessage(content=\"안녕 나는 Liam이야\")], \"language\": \"Japanese\"},\n",
    "    config=config,\n",
    ")\n",
    "\n",
    "response.content"
   ]
  },
  {
   "cell_type": "code",
   "execution_count": 78,
   "id": "0e94d14c-51d5-4f20-8181-65ec5d14fe7b",
   "metadata": {},
   "outputs": [
    {
     "data": {
      "text/plain": [
       "'\"안녕하세요, Liam님. 잘 부탁드립니다. 오늘 어떤 것을 도와드릴까요?\"'"
      ]
     },
     "execution_count": 78,
     "metadata": {},
     "output_type": "execute_result"
    }
   ],
   "source": [
    "model.invoke(f'\"{response.content}\"가 한국어로 뭐야?').content"
   ]
  },
  {
   "cell_type": "markdown",
   "id": "fbb59d60-531d-4877-b1bc-a861fcb1c403",
   "metadata": {},
   "source": [
    "## Conversation History 관리하기"
   ]
  },
  {
   "cell_type": "markdown",
   "id": "32a48b62-34b5-4f85-805c-4e24f7a5027d",
   "metadata": {},
   "source": [
    "### Chain 만들기"
   ]
  },
  {
   "cell_type": "code",
   "execution_count": 167,
   "id": "9405ee2f-98b4-4197-9e92-32145f69af53",
   "metadata": {},
   "outputs": [],
   "source": [
    "from langchain_core.runnables import RunnablePassthrough\n",
    "\n",
    "\n",
    "def filter_messages(messages, k=10):\n",
    "    msgs = messages[-k:]\n",
    "    # print(f\"len msgs : {len(msgs)}\")\n",
    "    # [print(f\"{'ai' if type(msg) == AIMessage else 'human'}: {msg.content}\")for msg in msgs]\n",
    "    return msgs\n",
    "\n",
    "\n",
    "chain = (\n",
    "    RunnablePassthrough.assign(messages=lambda x: filter_messages(x[\"messages\"]))\n",
    "    | prompt\n",
    "    | model\n",
    ")"
   ]
  },
  {
   "cell_type": "code",
   "execution_count": 168,
   "id": "934eeb8c-d9dd-43f2-b0a3-0832b75acda4",
   "metadata": {},
   "outputs": [],
   "source": [
    "messages = [\n",
    "    HumanMessage(content=\"안녕하세요! 저는 밥이에요\"),\n",
    "    AIMessage(content=\"안녕하세요!\"),\n",
    "    HumanMessage(content=\"저는 바닐라 아이스크림을 좋아해요\"),\n",
    "    AIMessage(content=\"좋네요\"),\n",
    "    HumanMessage(content=\"2 + 2가 뭐죠?\"),\n",
    "    AIMessage(content=\"4에요\"),\n",
    "    HumanMessage(content=\"고마워요\"),\n",
    "    AIMessage(content=\"문제 없어요!\"),\n",
    "    HumanMessage(content=\"재미있어요?\"),\n",
    "    AIMessage(content=\"네, 재미있어요!\"),\n",
    "]"
   ]
  },
  {
   "cell_type": "code",
   "execution_count": 169,
   "id": "a6b1dd0f-8e03-4038-96e7-b7a4074565b5",
   "metadata": {},
   "outputs": [
    {
     "name": "stdout",
     "output_type": "stream",
     "text": [
      "len msgs : 10\n",
      "ai: 안녕하세요!\n",
      "human: 저는 바닐라 아이스크림을 좋아해요\n",
      "ai: 좋네요\n",
      "human: 2 + 2가 뭐죠?\n",
      "ai: 4에요\n",
      "human: 고마워요\n",
      "ai: 문제 없어요!\n",
      "human: 재미있어요?\n",
      "ai: 네, 재미있어요!\n",
      "human: 내이름이 뭐야?\n"
     ]
    },
    {
     "data": {
      "text/plain": [
       "'제가 당신의 이름을 알 수 있는 방법이 없어요. 당신의 이름을 알려주시겠어요?'"
      ]
     },
     "execution_count": 169,
     "metadata": {},
     "output_type": "execute_result"
    }
   ],
   "source": [
    "response = chain.invoke(\n",
    "    {\n",
    "        \"messages\": messages + [HumanMessage(content=\"내이름이 뭐야?\")],\n",
    "        \"language\": \"English\",\n",
    "    }\n",
    ")\n",
    "response.content  # 기억하지 못함"
   ]
  },
  {
   "cell_type": "code",
   "execution_count": 170,
   "id": "529fe412-f678-49ca-8485-a03aed05aed3",
   "metadata": {},
   "outputs": [
    {
     "name": "stdout",
     "output_type": "stream",
     "text": [
      "len msgs : 10\n",
      "ai: 안녕하세요!\n",
      "human: 저는 바닐라 아이스크림을 좋아해요\n",
      "ai: 좋네요\n",
      "human: 2 + 2가 뭐죠?\n",
      "ai: 4에요\n",
      "human: 고마워요\n",
      "ai: 문제 없어요!\n",
      "human: 재미있어요?\n",
      "ai: 네, 재미있어요!\n",
      "human: 내가 좋아하는 아이스크림은 뭐야?\n"
     ]
    },
    {
     "data": {
      "text/plain": [
       "'당신이 좋아하는 아이스크림은 바닐라 아이스크림이에요.'"
      ]
     },
     "execution_count": 170,
     "metadata": {},
     "output_type": "execute_result"
    }
   ],
   "source": [
    "response = chain.invoke(\n",
    "    {\n",
    "        \"messages\": messages + [HumanMessage(content=\"내가 좋아하는 아이스크림은 뭐야?\")],\n",
    "        \"language\": \"English\",\n",
    "    }\n",
    ")\n",
    "response.content  # 기억함"
   ]
  },
  {
   "cell_type": "markdown",
   "id": "70e080e0-da9c-488a-bd06-359445dd5cb1",
   "metadata": {},
   "source": [
    "### RunnableWithMessageHistory 로 감싸기"
   ]
  },
  {
   "cell_type": "code",
   "execution_count": 171,
   "id": "641f26da-9fba-468c-bd42-012a6014c086",
   "metadata": {},
   "outputs": [],
   "source": [
    "with_message_history = RunnableWithMessageHistory(\n",
    "    chain,\n",
    "    get_session_history,\n",
    "    input_messages_key=\"messages\",\n",
    ")\n",
    "\n",
    "config = {\"configurable\": {\"session_id\": \"session_5\"}}"
   ]
  },
  {
   "cell_type": "code",
   "execution_count": 172,
   "id": "91c2683b-6563-471a-9619-1c7a1e55894e",
   "metadata": {},
   "outputs": [
    {
     "name": "stderr",
     "output_type": "stream",
     "text": [
      "Parent run 9b80a6cc-13d9-419d-a604-cc3d278f0188 not found for run 624e8d5b-8656-4aae-80bd-f01140c3521d. Treating as a root run.\n"
     ]
    },
    {
     "name": "stdout",
     "output_type": "stream",
     "text": [
      "len msgs : 10\n",
      "ai: 안녕하세요!\n",
      "human: 저는 바닐라 아이스크림을 좋아해요\n",
      "ai: 좋네요\n",
      "human: 2 + 2가 뭐죠?\n",
      "ai: 4에요\n",
      "human: 고마워요\n",
      "ai: 문제 없어요!\n",
      "human: 재미있어요?\n",
      "ai: 네, 재미있어요!\n",
      "human: 내 이름이 뭐야?\n"
     ]
    },
    {
     "data": {
      "text/plain": [
       "'죄송하지만, 저는 당신의 이름을 모릅니다. 대신 알려주시면 기억해 드릴 수 있어요.'"
      ]
     },
     "execution_count": 172,
     "metadata": {},
     "output_type": "execute_result"
    }
   ],
   "source": [
    "response = with_message_history.invoke(\n",
    "    {\n",
    "        \"messages\": messages + [HumanMessage(content=\"내 이름이 뭐야?\")],\n",
    "        \"language\": \"English\",\n",
    "    },\n",
    "    config=config,\n",
    ")\n",
    "\n",
    "response.content"
   ]
  },
  {
   "cell_type": "code",
   "execution_count": 173,
   "id": "ec40a9e2-4b3d-41f0-8fae-71c5a53d4ad2",
   "metadata": {},
   "outputs": [
    {
     "name": "stderr",
     "output_type": "stream",
     "text": [
      "Parent run 385ef844-596c-4a1f-8309-e153ac4c1505 not found for run 521765c8-ea19-496f-8bc5-6a3b05b4b03a. Treating as a root run.\n"
     ]
    },
    {
     "name": "stdout",
     "output_type": "stream",
     "text": [
      "len msgs : 10\n",
      "ai: 좋네요\n",
      "human: 2 + 2가 뭐죠?\n",
      "ai: 4에요\n",
      "human: 고마워요\n",
      "ai: 문제 없어요!\n",
      "human: 재미있어요?\n",
      "ai: 네, 재미있어요!\n",
      "human: 내 이름이 뭐야?\n",
      "ai: 죄송하지만, 저는 당신의 이름을 모릅니다. 대신 알려주시면 기억해 드릴 수 있어요.\n",
      "human: 대화를 참고해서 내가 좋아하는 아이스크림은 뭐야?\n"
     ]
    },
    {
     "data": {
      "text/plain": [
       "'이전 대화에서는 당신이 좋아하는 아이스크림에 대해 언급하지 않았어요. 어떤 아이스크림을 좋아하세요?'"
      ]
     },
     "execution_count": 173,
     "metadata": {},
     "output_type": "execute_result"
    }
   ],
   "source": [
    "response = with_message_history.invoke(\n",
    "    {\n",
    "        \"messages\": [HumanMessage(content=\"대화를 참고해서 내가 좋아하는 아이스크림은 뭐야?\")],\n",
    "        \"language\": \"English\",\n",
    "    },\n",
    "    config=config,\n",
    ")\n",
    "\n",
    "response.content"
   ]
  },
  {
   "cell_type": "markdown",
   "id": "3056a8e0-83b8-41d9-be7b-0fa2061cce6d",
   "metadata": {},
   "source": [
    "## Streaming"
   ]
  },
  {
   "cell_type": "code",
   "execution_count": 175,
   "id": "fcd34de5-457d-4c52-aad1-0a0d6561663e",
   "metadata": {
    "scrolled": true
   },
   "outputs": [
    {
     "data": {
      "text/plain": [
       "InMemoryChatMessageHistory(messages=[HumanMessage(content='안녕하세요! 저는 밥이에요'), AIMessage(content='안녕하세요!'), HumanMessage(content='저는 바닐라 아이스크림을 좋아해요'), AIMessage(content='좋네요'), HumanMessage(content='2 + 2가 뭐죠?'), AIMessage(content='4에요'), HumanMessage(content='고마워요'), AIMessage(content='문제 없어요!'), HumanMessage(content='재미있어요?'), AIMessage(content='네, 재미있어요!'), HumanMessage(content='내 이름이 뭐야?'), AIMessage(content='죄송하지만, 저는 당신의 이름을 알 수 없습니다. 알려주시면 기억할 수 있어요!', response_metadata={'token_usage': {'completion_tokens': 22, 'prompt_tokens': 122, 'total_tokens': 144}, 'model_name': 'gpt-4o', 'system_fingerprint': 'fp_319be4768e', 'finish_reason': 'stop', 'logprobs': None}, id='run-bdf5676b-0f56-416a-a6f5-0e821ff060c1-0', usage_metadata={'input_tokens': 122, 'output_tokens': 22, 'total_tokens': 144}), HumanMessage(content='대화를 참고해서 내가 좋아하는 아이스크림은 뭐야?'), AIMessage(content='이전 대화에서 당신이 좋아하는 아이스크림에 대해 언급한 적이 없어서 알 수 없습니다. 어떤 아이스크림을 좋아하시나요?', response_metadata={'token_usage': {'completion_tokens': 34, 'prompt_tokens': 142, 'total_tokens': 176}, 'model_name': 'gpt-4o', 'system_fingerprint': 'fp_319be4768e', 'finish_reason': 'stop', 'logprobs': None}, id='run-3e5d18fe-75a3-469b-8ae0-0636b3508e91-0', usage_metadata={'input_tokens': 142, 'output_tokens': 34, 'total_tokens': 176}), HumanMessage(content='안녕 재밌는 이야기하나 해줄래?'), AIMessageChunk(content=\"물론이죠! 다음은 짧고 재미있는 이야기입니다.\\n\\n옛날 옛적에, 한 작은 마을에 '흥부와 놀부'라는 형제가 살고 있었어요. 놀부는 항상 심술궂고 욕심이 많았지만, 흥부는 항상 착하고 남을 도와주는 사람이었죠.\\n\\n어느 날, 흥부는 길에서 다친 제비를 발견하고 집으로 데려와 정성껏 치료해 주었어요. 제비는 건강을 되찾고 흥부에게 감사의 표시로 수수 한 알을 주고 떠났어요. 흥부는 그 수수 한 알을 심었더니, 이듬해 커다란 수수밭이 생겼고, 수수대마다 금은보화가 가득했어요.\\n\\n이 소식을 들은 놀부는 질투심에 불타올랐어요. 놀부는 일부러 제비를 다치게 하고, 흥부처럼 치료해 주었어요. 제비는 놀부에게도 수수 한 알을 주고 떠났어요. 하지만 놀부가 심은 수수에서 자란 것은 보물이 아니라 온갖 벌레와 재앙뿐이었죠.\\n\\n결국 놀부는 자신의 잘못을 깨닫고 흥부에게 용서를 구했어요. 흥부는 형을 용서하고, 둘은 함께 행복하게 살았답니다.\\n\\n이 이야기는 착한 마음이 결국 좋은 결과를 가져온다는 교훈을 주는 옛날 이야기예요. 재미있게 들으셨나요?\", response_metadata={'finish_reason': 'stop'}, id='run-18304641-e776-4440-a8a3-1a98dd67c9a5'), HumanMessage(content='안녕 재밌는 이야기하나 해줄래?'), AIMessageChunk(content='물론이죠! 다음은 짧고 재미있는 이야기입니다.\\n\\n어느 날, 한 작은 동물 마을에 살고 있는 동물들이 모여서 최고의 농담 대회를 열기로 했어요. 이 대회에서 가장 웃긴 농담을 한 동물은 마을의 왕이 되기로 했답니다.\\n\\n먼저, 토끼가 나와서 농담을 했어요.\\n\"왜 당근이 농담을 잘 못할까요? \\n당근은 뿌리 깊은 진지함이 있어서요!\"\\n\\n모두가 웃었지만, 다음은 여우의 차례였어요.\\n여우가 말했어요.\\n\"고양이가 피아노를 칠 때 어떤 소리가 나죠?\\n\\'미-야-옹\\'!\"\\n\\n모두가 또 크게 웃었죠. 마지막으로 거북이가 나왔어요. 거북이는 천천히 걸어 나와서 말했어요.\\n\"여러분, 왜 달팽이가 집을 떠날 때 항상 집을 가지고 다닐까요?\\n집을 떠나면 바로 집에 가고 싶어지니까요!\"\\n\\n이 농담에 동물들은 배꼽을 잡고 웃었어요. 결국 거북이가 최고의 농담을 한 것으로 인정받아 마을의 왕이 되었답니다. 그리고 거북이는 말했어요,\\n\"왕이 되려면, 천천히 하지만 확실하게 웃겨야 해요!\"\\n\\n이 이야기가 재미있었나요?', response_metadata={'finish_reason': 'stop'}, id='run-b7185ef9-3e24-40ee-b991-aad57f513eaf'), HumanMessage(content='안녕 재밌는 이야기하나 해줄래?'), AIMessageChunk(content='물론이죠! 이번에는 조금 다른 재미있는 이야기를 해볼게요.\\n\\n옛날 옛적에 숲 속에 세 마리의 작은 돼지가 살고 있었어요. 이 돼지들은 각자 집을 짓기로 했어요. 첫째 돼지는 빨리 놀고 싶어서 집을 짚으로 지었고, 둘째 돼지는 나무로 집을 지었어요. 셋째 돼지는 튼튼한 벽돌로 집을 지었답니다.\\n\\n어느 날, 큰 나쁜 늑대가 나타나 첫째 돼지의 집에 왔어요. 늑대는 \"후~\" 하고 불어서 집을 날려버렸고, 첫째 돼지는 형의 집으로 도망갔어요. 이제 늑대는 둘째 돼지의 나무 집으로 갔어요. 역시 늑대는 \"후~\" 하고 불어서 집을 날려버렸고, 두 돼지는 셋째 돼지의 집으로 도망갔어요.\\n\\n마지막으로 늑대는 셋째 돼지의 벽돌 집으로 갔어요. 하지만 이번에는 아무리 \"후~ 후~\" 하고 불어도 집이 무너지지 않았어요. 늑대는 포기하고 돌아갔답니다.\\n\\n그 후, 첫째 돼지와 둘째 돼지는 셋째 돼지처럼 튼튼한 벽돌 집을 짓기로 결심했어요. 세 마리 돼지는 함께 열심히 일하고 튼튼한 집에서 행복하게 살았답니다.\\n\\n이 이야기는 노력과 지혜가 중요하다는 교훈을 주는 동화예요. 재미있게 들으셨나요?', response_metadata={'finish_reason': 'stop'}, id='run-7d4470e5-5686-4714-915c-4cdbed60f987')])"
      ]
     },
     "execution_count": 175,
     "metadata": {},
     "output_type": "execute_result"
    }
   ],
   "source": [
    "store.pop(\"session_6\")"
   ]
  },
  {
   "cell_type": "code",
   "execution_count": 176,
   "id": "3062c004-47e7-4f56-a3e6-3eabf3c76c4c",
   "metadata": {},
   "outputs": [
    {
     "name": "stderr",
     "output_type": "stream",
     "text": [
      "Parent run 88c0758b-6660-4b5a-acfc-fef5d6bb9b85 not found for run 48e29265-3e55-490e-875d-48d6e758f2e8. Treating as a root run.\n"
     ]
    },
    {
     "name": "stdout",
     "output_type": "stream",
     "text": [
      "len msgs : 1\n",
      "human: 안녕 재밌는 이야기하나 해줄래?\n",
      "물론이죠! 다음은 재미있는 이야기입니다.\n",
      "\n",
      "옛날 옛적에 한 작은 마을에 호기심 많고 영리한 소년이 살고 있었습니다. 그의 이름은 민준이었는데, 민준은 항상 새로운 모험을 찾아다니곤 했습니다. 어느 날, 민준은 마을 근처 숲 속 깊은 곳에 오래된 우물이 있다는 소문을 듣게 되었습니다. 그 우물에는 소원을 들어주는 마법의 물이 있다고 했습니다.\n",
      "\n",
      "민준은 이 소문에 흥미를 느끼고 우물을 찾아 나섰습니다. 숲 속을 헤매다 마침내 민준은 오래된 우물을 발견했습니다. 우물가에 다가가자, 물 속에서 반짝이는 무언가를 발견했습니다. 그것은 바로 반짝이는 금빛 물방울이었습니다.\n",
      "\n",
      "민준은 조심스럽게 물방울 하나를 손에 담고 소원을 빌었습니다. \"나는 마을 사람들에게 행복을 가져다주는 사람이 되고 싶어!\" 그 순간, 금빛 물방울이 밝게 빛나며 민준의 손에서 사라졌습니다.\n",
      "\n",
      "그 후 민준은 마을로 돌아왔습니다. 이상하게도 마을 사람들은 하나같이 행복해 보였습니다. 그들은 서로를 도우며 웃음꽃이 피어났습니다. 민준은 자신의 소원이 이루어진 것을 깨닫고 기뻐했습니다. 그는 다시는 우물을 찾아가지 않았지만, 마을 사람들에게 행복을 전하는 마음을 계속 간직하며 살았습니다.\n",
      "\n",
      "이렇게 민준의 용기와 소원 덕분에 마을은 영원히 행복한 곳이 되었다고 합니다.\n",
      "\n",
      "재밌었나요?"
     ]
    }
   ],
   "source": [
    "config = {\"configurable\": {\"session_id\": \"session_6\"}}\n",
    "for r in with_message_history.stream(\n",
    "    {\n",
    "        \"messages\": [HumanMessage(content=\"안녕 재밌는 이야기하나 해줄래?\")],\n",
    "        \"language\": \"Korean\",\n",
    "    },\n",
    "    config=config,\n",
    "):\n",
    "    print(r.content, end=\"\")"
   ]
  },
  {
   "cell_type": "code",
   "execution_count": null,
   "id": "0207b4ea-10ff-41c7-9970-b128904e9bb9",
   "metadata": {},
   "outputs": [],
   "source": []
  },
  {
   "cell_type": "code",
   "execution_count": null,
   "id": "abce36ee-20e8-42d1-a25c-99faeae8da84",
   "metadata": {},
   "outputs": [],
   "source": []
  }
 ],
 "metadata": {
  "kernelspec": {
   "display_name": "Python 3 (ipykernel)",
   "language": "python",
   "name": "python3"
  },
  "language_info": {
   "codemirror_mode": {
    "name": "ipython",
    "version": 3
   },
   "file_extension": ".py",
   "mimetype": "text/x-python",
   "name": "python",
   "nbconvert_exporter": "python",
   "pygments_lexer": "ipython3",
   "version": "3.11.9"
  }
 },
 "nbformat": 4,
 "nbformat_minor": 5
}
