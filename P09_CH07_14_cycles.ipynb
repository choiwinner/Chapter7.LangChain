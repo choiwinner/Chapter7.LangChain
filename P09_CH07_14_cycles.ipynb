{
 "cells": [
  {
   "cell_type": "markdown",
   "id": "99510ceb-ad8c-4931-95c2-a60766c8c3c0",
   "metadata": {},
   "source": [
    "# Cycles"
   ]
  },
  {
   "cell_type": "code",
   "execution_count": 1,
   "id": "d7dc1d18-9859-4da6-924b-538245913105",
   "metadata": {},
   "outputs": [],
   "source": [
    "from typing import Annotated, Literal\n",
    "from typing_extensions import TypedDict\n",
    "from langgraph.graph import END, START, StateGraph"
   ]
  },
  {
   "cell_type": "code",
   "execution_count": 2,
   "id": "ce8f787c-f5fb-4b1e-98f0-e25c190324b7",
   "metadata": {},
   "outputs": [],
   "source": [
    "# Helper\n",
    "def visualize_graph(graph):\n",
    "    from IPython.display import Image, display\n",
    "    try:\n",
    "        display(Image(graph.get_graph(xray=True).draw_mermaid_png()))\n",
    "    except Exception:\n",
    "        # This requires some extra dependencies and is optional\n",
    "        pass"
   ]
  },
  {
   "cell_type": "code",
   "execution_count": 3,
   "id": "4839110c-5b61-4998-a01b-83f06efcd35d",
   "metadata": {},
   "outputs": [],
   "source": [
    "def add(left, right):\n",
    "    return left + right\n",
    "\n",
    "\n",
    "class State(TypedDict):\n",
    "    total: Annotated[int, add]"
   ]
  },
  {
   "cell_type": "code",
   "execution_count": 4,
   "id": "13109177-2f70-4fdb-9637-b337ab1d7385",
   "metadata": {},
   "outputs": [],
   "source": [
    "builder = StateGraph(State)\n",
    "builder.add_node(\"add_one\", lambda x: {\"total\": 1})\n",
    "builder.add_node(\"double\", lambda x: {\"total\": x[\"total\"]})\n",
    "builder.add_edge(START, \"add_one\")\n",
    "\n",
    "\n",
    "def route(state: State) -> Literal[\"double\", \"__end__\"]:\n",
    "    if state[\"total\"] < 6:\n",
    "        return \"double\"\n",
    "    return \"__end__\" # This is what END is\n",
    "\n",
    "\n",
    "builder.add_conditional_edges(\"add_one\", route)\n",
    "builder.add_edge(\"double\", \"add_one\")\n",
    "\n",
    "graph = builder.compile()"
   ]
  },
  {
   "cell_type": "code",
   "execution_count": 5,
   "id": "fc7aeae1-ab8d-4147-adc0-e52affd47e68",
   "metadata": {},
   "outputs": [
    {
     "data": {
      "image/jpeg": "[encoded data removed]",
      "text/plain": [
       "<IPython.core.display.Image object>"
      ]
     },
     "metadata": {},
     "output_type": "display_data"
    }
   ],
   "source": [
    "visualize_graph(graph)"
   ]
  },
  {
   "cell_type": "code",
   "execution_count": 7,
   "id": "9681b87c-611c-4941-9aba-fc4f8a151454",
   "metadata": {},
   "outputs": [
    {
     "name": "stdout",
     "output_type": "stream",
     "text": [
      "\u001b[36;1m\u001b[1;3m[0:tasks]\u001b[0m \u001b[1mStarting step 0 with 1 task:\n",
      "\u001b[0m- \u001b[32;1m\u001b[1;3m__start__\u001b[0m -> {'total': 1}\n",
      "\u001b[36;1m\u001b[1;3m[0:writes]\u001b[0m \u001b[1mFinished step 0 with writes to 1 channel:\n",
      "\u001b[0m- \u001b[33;1m\u001b[1;3mtotal\u001b[0m -> 1\n",
      "\u001b[36;1m\u001b[1;3m[1:tasks]\u001b[0m \u001b[1mStarting step 1 with 1 task:\n",
      "\u001b[0m- \u001b[32;1m\u001b[1;3madd_one\u001b[0m -> {'total': 1}\n",
      "\u001b[36;1m\u001b[1;3m[1:writes]\u001b[0m \u001b[1mFinished step 1 with writes to 1 channel:\n",
      "\u001b[0m- \u001b[33;1m\u001b[1;3mtotal\u001b[0m -> 1\n",
      "\u001b[36;1m\u001b[1;3m[2:tasks]\u001b[0m \u001b[1mStarting step 2 with 1 task:\n",
      "\u001b[0m- \u001b[32;1m\u001b[1;3mdouble\u001b[0m -> {'total': 2}\n",
      "\u001b[36;1m\u001b[1;3m[2:writes]\u001b[0m \u001b[1mFinished step 2 with writes to 1 channel:\n",
      "\u001b[0m- \u001b[33;1m\u001b[1;3mtotal\u001b[0m -> 2\n",
      "\u001b[36;1m\u001b[1;3m[3:tasks]\u001b[0m \u001b[1mStarting step 3 with 1 task:\n",
      "\u001b[0m- \u001b[32;1m\u001b[1;3madd_one\u001b[0m -> {'total': 4}\n",
      "\u001b[36;1m\u001b[1;3m[3:writes]\u001b[0m \u001b[1mFinished step 3 with writes to 1 channel:\n",
      "\u001b[0m- \u001b[33;1m\u001b[1;3mtotal\u001b[0m -> 1\n",
      "\u001b[36;1m\u001b[1;3m[4:tasks]\u001b[0m \u001b[1mStarting step 4 with 1 task:\n",
      "\u001b[0m- \u001b[32;1m\u001b[1;3mdouble\u001b[0m -> {'total': 5}\n",
      "\u001b[36;1m\u001b[1;3m[4:writes]\u001b[0m \u001b[1mFinished step 4 with writes to 1 channel:\n",
      "\u001b[0m- \u001b[33;1m\u001b[1;3mtotal\u001b[0m -> 5\n",
      "\u001b[36;1m\u001b[1;3m[5:tasks]\u001b[0m \u001b[1mStarting step 5 with 1 task:\n",
      "\u001b[0m- \u001b[32;1m\u001b[1;3madd_one\u001b[0m -> {'total': 10}\n",
      "\u001b[36;1m\u001b[1;3m[5:writes]\u001b[0m \u001b[1mFinished step 5 with writes to 1 channel:\n",
      "\u001b[0m- \u001b[33;1m\u001b[1;3mtotal\u001b[0m -> 1\n"
     ]
    },
    {
     "data": {
      "text/plain": [
       "{'total': 11}"
      ]
     },
     "execution_count": 7,
     "metadata": {},
     "output_type": "execute_result"
    }
   ],
   "source": [
    "thread_id = \"some-thread\"\n",
    "config = {\"configurable\": {\"thread_id\": thread_id}}\n",
    "\n",
    "graph.invoke({\"total\": 1}, config, debug=True)"
   ]
  },
  {
   "cell_type": "markdown",
   "id": "a6d88d4a-ced3-409d-bfc7-8ca4ea202055",
   "metadata": {},
   "source": [
    "#### 설명\n",
    "\n",
    "1. 먼저, 그래프는 체크포인트를 찾습니다. 체크포인트가 발견되지 않으면 상태는 총계 0으로 초기화됩니다.\n",
    "2. 다음으로, 그래프는 사용자의 입력을 상태 업데이트로 적용합니다. 리듀서는 입력 값(1)을 기존 값(0)에 추가합니다. 이 스텝의 끝에서 총계는 (1)이 됩니다.\n",
    "3. 그 후, \"add_one\" 노드가 호출되어 1을 반환합니다.\n",
    "4. 그 다음, 리듀서는 이 업데이트를 기존 총계(1)에 추가합니다. 상태는 이제 2입니다.\n",
    "5. 그 다음, 조건부 에지 \"route\"가 호출됩니다. 값이 6보다 작으므로 'double' 노드로 이동합니다.\n",
    "6. 'double'은 기존 상태(2)를 가져와 반환합니다. 리듀서가 호출되어 이를 기존 상태에 추가합니다. 상태는 이제 4가 됩니다.\n",
    "7. 그래프는 다시 \"add_one\" (5)로 돌아가 조건부 에지를 확인하고, 값이 6보다 작으므로 계속 진행합니다. 'double' 노드를 거친 후 총계는 (10)이 됩니다.\n",
    "8. 고정 에지는 다시 \"add_one\" (11)로 돌아가고, 조건부 엣지를 확인한 후 값이 6보다 크므로 프로그램이 종료됩니다.\n",
    "\n",
    "이 과정을 통해 그래프는 사용자의 입력을 처리하고, 조건에 따라 다양한 노드를 통해 상태를 업데이트하며, 마지막에는 조건을 만족하지 않는 경우 프로그램이 종료됩니다."
   ]
  },
  {
   "cell_type": "code",
   "execution_count": null,
   "id": "f8d76c65-2f19-4be1-ad83-52d6da578dc9",
   "metadata": {},
   "outputs": [],
   "source": []
  }
 ],
 "metadata": {
  "kernelspec": {
   "display_name": "Python 3 (ipykernel)",
   "language": "python",
   "name": "python3"
  },
  "language_info": {
   "codemirror_mode": {
    "name": "ipython",
    "version": 3
   },
   "file_extension": ".py",
   "mimetype": "text/x-python",
   "name": "python",
   "nbconvert_exporter": "python",
   "pygments_lexer": "ipython3",
   "version": "3.11.9"
  }
 },
 "nbformat": 4,
 "nbformat_minor": 5
}
