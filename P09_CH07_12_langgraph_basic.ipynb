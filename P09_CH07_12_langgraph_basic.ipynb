{
 "cells": [
  {
   "cell_type": "markdown",
   "id": "99510ceb-ad8c-4931-95c2-a60766c8c3c0",
   "metadata": {},
   "source": [
    "# LangGraph Basic"
   ]
  },
  {
   "cell_type": "code",
   "execution_count": 1,
   "id": "2192e9cf-5ddf-4279-959e-a041c4545569",
   "metadata": {
    "scrolled": true
   },
   "outputs": [
    {
     "name": "stdout",
     "output_type": "stream",
     "text": [
      "Requirement already satisfied: langgraph in /Users/user/miniconda3/envs/fc-ai-signature/lib/python3.11/site-packages (0.0.69)\n",
      "Requirement already satisfied: langchain-core<0.3,>=0.2 in /Users/user/miniconda3/envs/fc-ai-signature/lib/python3.11/site-packages (from langgraph) (0.2.9)\n",
      "Requirement already satisfied: PyYAML>=5.3 in /Users/user/miniconda3/envs/fc-ai-signature/lib/python3.11/site-packages (from langchain-core<0.3,>=0.2->langgraph) (6.0.1)\n",
      "Requirement already satisfied: jsonpatch<2.0,>=1.33 in /Users/user/miniconda3/envs/fc-ai-signature/lib/python3.11/site-packages (from langchain-core<0.3,>=0.2->langgraph) (1.33)\n",
      "Requirement already satisfied: langsmith<0.2.0,>=0.1.75 in /Users/user/miniconda3/envs/fc-ai-signature/lib/python3.11/site-packages (from langchain-core<0.3,>=0.2->langgraph) (0.1.75)\n",
      "Requirement already satisfied: packaging<25,>=23.2 in /Users/user/miniconda3/envs/fc-ai-signature/lib/python3.11/site-packages (from langchain-core<0.3,>=0.2->langgraph) (23.2)\n",
      "Requirement already satisfied: pydantic<3,>=1 in /Users/user/miniconda3/envs/fc-ai-signature/lib/python3.11/site-packages (from langchain-core<0.3,>=0.2->langgraph) (2.7.1)\n",
      "Requirement already satisfied: tenacity!=8.4.0,<9.0.0,>=8.1.0 in /Users/user/miniconda3/envs/fc-ai-signature/lib/python3.11/site-packages (from langchain-core<0.3,>=0.2->langgraph) (8.3.0)\n",
      "Requirement already satisfied: jsonpointer>=1.9 in /Users/user/miniconda3/envs/fc-ai-signature/lib/python3.11/site-packages (from jsonpatch<2.0,>=1.33->langchain-core<0.3,>=0.2->langgraph) (2.4)\n",
      "Requirement already satisfied: orjson<4.0.0,>=3.9.14 in /Users/user/miniconda3/envs/fc-ai-signature/lib/python3.11/site-packages (from langsmith<0.2.0,>=0.1.75->langchain-core<0.3,>=0.2->langgraph) (3.10.3)\n",
      "Requirement already satisfied: requests<3,>=2 in /Users/user/miniconda3/envs/fc-ai-signature/lib/python3.11/site-packages (from langsmith<0.2.0,>=0.1.75->langchain-core<0.3,>=0.2->langgraph) (2.32.2)\n",
      "Requirement already satisfied: annotated-types>=0.4.0 in /Users/user/miniconda3/envs/fc-ai-signature/lib/python3.11/site-packages (from pydantic<3,>=1->langchain-core<0.3,>=0.2->langgraph) (0.7.0)\n",
      "Requirement already satisfied: pydantic-core==2.18.2 in /Users/user/miniconda3/envs/fc-ai-signature/lib/python3.11/site-packages (from pydantic<3,>=1->langchain-core<0.3,>=0.2->langgraph) (2.18.2)\n",
      "Requirement already satisfied: typing-extensions>=4.6.1 in /Users/user/miniconda3/envs/fc-ai-signature/lib/python3.11/site-packages (from pydantic<3,>=1->langchain-core<0.3,>=0.2->langgraph) (4.11.0)\n",
      "Requirement already satisfied: charset-normalizer<4,>=2 in /Users/user/miniconda3/envs/fc-ai-signature/lib/python3.11/site-packages (from requests<3,>=2->langsmith<0.2.0,>=0.1.75->langchain-core<0.3,>=0.2->langgraph) (3.3.2)\n",
      "Requirement already satisfied: idna<4,>=2.5 in /Users/user/miniconda3/envs/fc-ai-signature/lib/python3.11/site-packages (from requests<3,>=2->langsmith<0.2.0,>=0.1.75->langchain-core<0.3,>=0.2->langgraph) (3.7)\n",
      "Requirement already satisfied: urllib3<3,>=1.21.1 in /Users/user/miniconda3/envs/fc-ai-signature/lib/python3.11/site-packages (from requests<3,>=2->langsmith<0.2.0,>=0.1.75->langchain-core<0.3,>=0.2->langgraph) (2.2.1)\n",
      "Requirement already satisfied: certifi>=2017.4.17 in /Users/user/miniconda3/envs/fc-ai-signature/lib/python3.11/site-packages (from requests<3,>=2->langsmith<0.2.0,>=0.1.75->langchain-core<0.3,>=0.2->langgraph) (2024.2.2)\n"
     ]
    }
   ],
   "source": [
    "!pip install langgraph"
   ]
  },
  {
   "cell_type": "markdown",
   "id": "fec46cab-5936-4f50-ba0a-82bbe20fb491",
   "metadata": {},
   "source": [
    "## Nodes\n",
    "\n",
    "StateGraph에서는 노드는 일반적으로 파이썬 함수(동기 함수 또는 비동기 함수)로, 첫 번째 위치 인수는 상태(state)이며, (선택적으로) 두 번째 위치 인수는 “config”라는 구성 파라미터를 포함할 수 있습니다(예: thread_id와 같은 옵션 매개변수).\n",
    "\n",
    "NetworkX와 유사하게, 이러한 노드를 그래프에 추가할 때 add_node 메서드를 사용합니다."
   ]
  },
  {
   "cell_type": "markdown",
   "id": "ce71195f-729f-4f2d-9386-bfea2b702163",
   "metadata": {},
   "source": [
    "## Edges\n",
    "\n",
    "- 에지는 로직이 어떻게 라우팅되고 그래프가 어떻게 종료를 결정하는지 정의합니다. 노드와 유사하게, 엣지는 그래프의 현재 상태를 받아 값을 반환합니다.\n",
    "- 기본적으로, 이 값은 상태를 다음에 보낼 노드 또는 노드들의 이름입니다. 이러한 모든 노드는 다음 슈퍼스텝의 일부로 병렬로 실행됩니다.\n",
    "- 에지를 재사용하고 싶다면, 에지의 출력을 다음 노드의 이름으로 매핑하는 딕셔너리를 선택적으로 제공할 수 있습니다.\n",
    "- 항상 노드 A에서 노드 B로 이동하고 싶다면 add_edge 메서드를 직접 사용할 수 있습니다.\n",
    "- 하나 이상의 에지로 선택적으로 라우팅하거나 종료를 선택적으로 하고 싶다면 add_conditional_edges 메서드를 사용할 수 있습니다.\n",
    "- 노드에 다수의 출발 엣지가 있는 경우, 이러한 모든 목적지 노드는 다음 슈퍼스텝의 일부로 병렬로 실행됩니다."
   ]
  },
  {
   "cell_type": "code",
   "execution_count": 2,
   "id": "441250d7-2995-4a46-a1b3-3ff69864e67b",
   "metadata": {},
   "outputs": [],
   "source": [
    "from langchain_core.runnables import RunnableConfig\n",
    "from langgraph.graph import END, START, StateGraph"
   ]
  },
  {
   "cell_type": "code",
   "execution_count": 5,
   "id": "a5178032-7dbe-425b-ab82-8c4c6830283f",
   "metadata": {},
   "outputs": [],
   "source": [
    "builder = StateGraph(dict)\n",
    "\n",
    "\n",
    "def my_node(state: dict, config: RunnableConfig):\n",
    "    print(\"In node: \", config[\"configurable\"][\"user_id\"])\n",
    "    return {\"results\": f\"Hello, {state['input']}!\"}\n",
    "\n",
    "\n",
    "# The second argument is optional\n",
    "def my_other_node(state: dict):\n",
    "    return state\n",
    "\n",
    "\n",
    "builder.add_node(\"my_node\", my_node)\n",
    "builder.add_node(\"other_node\", my_other_node)\n",
    "builder.add_edge(START, \"my_node\")\n",
    "builder.add_edge(\"my_node\", \"other_node\")\n",
    "builder.add_edge(\"other_node\", END)\n",
    "graph = builder.compile()"
   ]
  },
  {
   "cell_type": "code",
   "execution_count": 6,
   "id": "1a0fa121-f982-4f6e-99b3-1ec2e58c09b6",
   "metadata": {},
   "outputs": [
    {
     "name": "stdout",
     "output_type": "stream",
     "text": [
      "In node:  abcd-123\n"
     ]
    },
    {
     "data": {
      "text/plain": [
       "{'results': 'Hello, Will!'}"
      ]
     },
     "execution_count": 6,
     "metadata": {},
     "output_type": "execute_result"
    }
   ],
   "source": [
    "graph.invoke({\"input\": \"Will\"}, {\"configurable\": {\"user_id\": \"abcd-123\"}})"
   ]
  },
  {
   "cell_type": "markdown",
   "id": "32446d01-3f82-465d-bc90-a9ffba498a21",
   "metadata": {},
   "source": [
    "백그라운드에서 함수는 [RunnableLambda](https://api.python.langchain.com/en/latest/runnables/langchain_core.runnables.base.RunnableLambda.html#langchain_core.runnables.base.RunnableLambda)로 변환되며, 이 변환은 배치 및 비동기 지원을 함수에 추가하고, 네이티브 트레이싱 및 디버깅 기능을 제공합니다."
   ]
  },
  {
   "cell_type": "code",
   "execution_count": 7,
   "id": "043ccb1d-6ab9-4607-a34d-70827faa17f6",
   "metadata": {},
   "outputs": [],
   "source": [
    "# Helper\n",
    "def visualize_graph(graph):\n",
    "    from IPython.display import Image, display\n",
    "    try:\n",
    "        display(Image(graph.get_graph(xray=True).draw_mermaid_png()))\n",
    "    except Exception:\n",
    "        # This requires some extra dependencies and is optional\n",
    "        pass"
   ]
  },
  {
   "cell_type": "code",
   "execution_count": 8,
   "id": "1e6a79b8-ef8e-4902-a09c-00c99b2c1275",
   "metadata": {},
   "outputs": [
    {
     "data": {
      "image/jpeg": "[encoded data removed]",
      "text/plain": [
       "<IPython.core.display.Image object>"
      ]
     },
     "metadata": {},
     "output_type": "display_data"
    }
   ],
   "source": [
    "visualize_graph(graph)"
   ]
  },
  {
   "cell_type": "markdown",
   "id": "babd2f90-30ab-4ecc-961e-1ec3b9e06b1c",
   "metadata": {},
   "source": [
    "## 상태(State) 관리\n",
    "\n",
    "- LangGraph는 상태 관리에 두 가지 주요 개념을 도입합니다: 상태 스키마(state schemas)와 리듀서(reducers)입니다.\n",
    "- 상태 스키마는 각 그래프의 노드에 전달되는 객체의 타입을 정의합니다.\n",
    "- 리듀서는 노드의 출력을 현재 상태에 어떻게 적용할지를 정의합니다. 예를 들어, 새로운 대화 응답을 대화 기록에 병합하거나 여러 에이전트 노드의 출력을 평균화하는 데 리듀서를 사용할 수 있습니다. 상태 필드를 리듀서 함수로 주석 처리함으로써, 애플리케이션을 통해 데이터가 어떻게 흐르는지 정확하게 제어할 수 있습니다."
   ]
  },
  {
   "cell_type": "code",
   "execution_count": 9,
   "id": "46e763c8-8249-4d6f-afee-8b0387ad125b",
   "metadata": {},
   "outputs": [],
   "source": [
    "from typing import Annotated\n",
    "from typing_extensions import TypedDict\n",
    "from langgraph.graph import END, START, StateGraph"
   ]
  },
  {
   "cell_type": "markdown",
   "id": "5fdfdc4c-b61b-4d95-b880-8f3a45f8c284",
   "metadata": {},
   "source": [
    "### 예시1: StateA"
   ]
  },
  {
   "cell_type": "code",
   "execution_count": 12,
   "id": "e328f469-b66e-4a7a-b407-a8c4ba09367c",
   "metadata": {},
   "outputs": [
    {
     "data": {
      "text/plain": [
       "{'value': 1}"
      ]
     },
     "execution_count": 12,
     "metadata": {},
     "output_type": "execute_result"
    }
   ],
   "source": [
    "class StateA(TypedDict):\n",
    "    value: int\n",
    "\n",
    "\n",
    "builder = StateGraph(StateA)\n",
    "builder.add_node(\"my_node\", lambda state: {\"value\": 1})\n",
    "builder.add_edge(START, \"my_node\")\n",
    "builder.add_edge(\"my_node\", END)\n",
    "graph = builder.compile()\n",
    "graph.invoke({\"value\": 5})"
   ]
  },
  {
   "cell_type": "markdown",
   "id": "610f6f94-34ae-4b47-a954-ed7cc5587a2b",
   "metadata": {},
   "source": [
    "### 예시 2: StateB"
   ]
  },
  {
   "cell_type": "code",
   "execution_count": 13,
   "id": "72e4781b-8f09-4853-b98f-5c0c73aefe5c",
   "metadata": {},
   "outputs": [
    {
     "data": {
      "text/plain": [
       "{'value': 6}"
      ]
     },
     "execution_count": 13,
     "metadata": {},
     "output_type": "execute_result"
    }
   ],
   "source": [
    "# reducer\n",
    "def add(existing: int, new: int):\n",
    "    return existing + new\n",
    "\n",
    "\n",
    "class StateB(TypedDict):\n",
    "    value: Annotated[int, add]\n",
    "\n",
    "\n",
    "builder = StateGraph(StateB)\n",
    "builder.add_node(\"my_node\", lambda state: {\"value\": 1})\n",
    "builder.add_edge(START, \"my_node\")\n",
    "builder.add_edge(\"my_node\", END)\n",
    "graph = builder.compile()\n",
    "graph.invoke({\"value\": 5})"
   ]
  },
  {
   "cell_type": "markdown",
   "id": "8283f3e7-9abc-4815-9713-30c305adaea9",
   "metadata": {},
   "source": [
    "보통 그래프의 상태 스키마(state_schema, 즉 State)로 TypedDict를 사용하지만, 상태 스키마는 거의 모든 타입이 될 수 있습니다. 따라서 다음과 같은 그래프도 완전히 유효합니다."
   ]
  },
  {
   "cell_type": "code",
   "execution_count": 14,
   "id": "9fc0a2bd-ea2a-4c08-bc5c-acf9ee30ef71",
   "metadata": {},
   "outputs": [
    {
     "data": {
      "text/plain": [
       "1"
      ]
     },
     "execution_count": 14,
     "metadata": {},
     "output_type": "execute_result"
    }
   ],
   "source": [
    "# Analogous to StateA above\n",
    "builder = StateGraph(int)\n",
    "builder.add_node(\"my_node\", lambda state: 1)\n",
    "builder.add_edge(START, \"my_node\")\n",
    "builder.add_edge(\"my_node\", END)\n",
    "builder.compile().invoke(5)"
   ]
  },
  {
   "cell_type": "code",
   "execution_count": 15,
   "id": "b601f67a-94d5-4151-aa6b-2f2e05961172",
   "metadata": {},
   "outputs": [
    {
     "data": {
      "text/plain": [
       "6"
      ]
     },
     "execution_count": 15,
     "metadata": {},
     "output_type": "execute_result"
    }
   ],
   "source": [
    "# Analogous to StateB\n",
    "def add(left, right):\n",
    "    return left + right\n",
    "\n",
    "\n",
    "builder = StateGraph(Annotated[int, add])\n",
    "builder.add_node(\"my_node\", lambda state: 1)\n",
    "builder.add_edge(START, \"my_node\")\n",
    "builder.add_edge(\"my_node\", END)\n",
    "graph = builder.compile()\n",
    "graph.invoke(5)"
   ]
  },
  {
   "cell_type": "markdown",
   "id": "c6b4d322-1000-429b-9fe8-a84713f0372d",
   "metadata": {},
   "source": [
    "## Configuration, Thread, Checkpoint\n",
    "\n",
    "- Configuration\n",
    "  - 어떤 그래프 배포에서도 런타임 시 제어할 수 있는 일부 구성 가능한 값을 원할 가능성이 높습니다. 이러한 값은 상태 변수로 취급되지 않으며, 그래프 입력과 다릅니다. 일반적인 예로는 대화의 thread_id, user_id, 사용할 LLM의 선택, 검색기에서 반환할 문서 수 등이 있습니다. 이러한 값을 상태 내에 전달할 수도 있지만, 정규 데이터 흐름과 분리하는 것이 더 좋습니다.\n",
    "- Thread (스레드)\n",
    "  - LangGraph의 Thread는 그래프의 개별 세션을 나타냅니다. 이러한 Thread는 애플리케이션에서 다중 대화와 다중 사용자 지원을 용이하게 하기 위해 개별 세션 내에서 상태 체크포인트를 구성합니다.\n",
    "- Checkpoint (체크포인트)\n",
    "  - 체크포인트는 애플리케이션과 사용자(또는 다른 사용자나 시스템) 간의 다중 턴 상호작용에서 스레드의 상태를 나타냅니다. 단일 실행 내에서 생성된 체크포인트는 이 상태에서 시작할 때 실행될 다음 노드 집합을 갖게 됩니다. 특정 실행이 끝날 때 생성된 체크포인트도 동일하지만, 전환할 다음 노드가 없다는 점이 다릅니다(그래프는 사용자 입력을 기다리고 있습니다)."
   ]
  },
  {
   "cell_type": "code",
   "execution_count": 16,
   "id": "0ba2ae73-5bfe-4b0f-a975-cd8953ef997f",
   "metadata": {},
   "outputs": [],
   "source": [
    "from langgraph.checkpoint.memory import MemorySaver"
   ]
  },
  {
   "cell_type": "code",
   "execution_count": 17,
   "id": "2884c0f0-c2d0-4526-9fa2-8b2829be8b76",
   "metadata": {},
   "outputs": [],
   "source": [
    "def add(left, right):\n",
    "    return left + right\n",
    "\n",
    "\n",
    "class State(TypedDict):\n",
    "    total: Annotated[int, add]\n",
    "    turn: str\n",
    "\n",
    "\n",
    "builder = StateGraph(State)\n",
    "builder.add_node(\"add_one\", lambda x: {\"total\": 1})\n",
    "builder.add_edge(START, \"add_one\")\n",
    "builder.add_edge(\"add_one\", END)\n",
    "\n",
    "memory = MemorySaver()\n",
    "graph = builder.compile(checkpointer=memory)"
   ]
  },
  {
   "cell_type": "code",
   "execution_count": 18,
   "id": "a6ec8f6f-1eda-4981-8354-2a1724c9d162",
   "metadata": {},
   "outputs": [
    {
     "data": {
      "image/jpeg": "[encoded data removed]",
      "text/plain": [
       "<IPython.core.display.Image object>"
      ]
     },
     "metadata": {},
     "output_type": "display_data"
    }
   ],
   "source": [
    "visualize_graph(graph)"
   ]
  },
  {
   "cell_type": "code",
   "execution_count": 19,
   "id": "21b92e1a-21ef-4088-a9aa-c5c18b4828a9",
   "metadata": {},
   "outputs": [],
   "source": [
    "thread_id = \"some-thread\"\n",
    "config = {\"configurable\": {\"thread_id\": thread_id}}\n",
    "result = graph.invoke({\"total\": 1, \"turn\": \"First Turn\"}, config)\n",
    "result2 = graph.invoke({\"turn\": \"Next Turn\"}, config)\n",
    "result3 = graph.invoke({\"total\": 5}, config)\n",
    "result4 = graph.invoke({\"total\": 5}, {\"configurable\": {\"thread_id\": \"new-thread-id\"}})"
   ]
  },
  {
   "cell_type": "code",
   "execution_count": 20,
   "id": "2961dcee-eb4f-4c57-9a77-4f7ba82cff1b",
   "metadata": {},
   "outputs": [
    {
     "data": {
      "text/plain": [
       "{'total': 2, 'turn': 'First Turn'}"
      ]
     },
     "execution_count": 20,
     "metadata": {},
     "output_type": "execute_result"
    }
   ],
   "source": [
    "result"
   ]
  },
  {
   "cell_type": "code",
   "execution_count": 21,
   "id": "e4e7abe8-e724-4dfa-9072-f7d34ca5e639",
   "metadata": {},
   "outputs": [
    {
     "data": {
      "text/plain": [
       "{'total': 3, 'turn': 'Next Turn'}"
      ]
     },
     "execution_count": 21,
     "metadata": {},
     "output_type": "execute_result"
    }
   ],
   "source": [
    "result2"
   ]
  },
  {
   "cell_type": "code",
   "execution_count": 22,
   "id": "f649103b-cf09-4e28-9c16-35b8ad4427f0",
   "metadata": {},
   "outputs": [
    {
     "data": {
      "text/plain": [
       "{'total': 9, 'turn': 'Next Turn'}"
      ]
     },
     "execution_count": 22,
     "metadata": {},
     "output_type": "execute_result"
    }
   ],
   "source": [
    "result3"
   ]
  },
  {
   "cell_type": "code",
   "execution_count": 23,
   "id": "5d3985df-81b2-4370-beae-418a09ba0335",
   "metadata": {},
   "outputs": [
    {
     "data": {
      "text/plain": [
       "{'total': 6}"
      ]
     },
     "execution_count": 23,
     "metadata": {},
     "output_type": "execute_result"
    }
   ],
   "source": [
    "result4"
   ]
  },
  {
   "cell_type": "markdown",
   "id": "8b8de638-6cbc-4b1f-94ee-dbcd097afb93",
   "metadata": {},
   "source": [
    "#### 설명\n",
    "\n",
    "1. 첫 번째 실행에서는 체크포인트가 없었기 때문에 그래프는 원시 입력으로 실행되었습니다. \"total\" 값은 1에서 2로 증가했고, \"turn\"은 \"첫 번째 턴\"으로 설정되었습니다.\n",
    "2. 두 번째 실행에서는 사용자가 \"turn\"을 업데이트했지만 \"total\" 값은 제공하지 않았습니다! 상태에서 로드하므로, 이전 결과가 \"add_one\" 노드에서 1씩 증가하고, \"turn\"은 사용자가 제공한 값으로 덮어씌워집니다.\n",
    "3. 세 번째 실행에서는 \"turn\"이 사용자에 의해 덮어씌워지지 않았기 때문에 체크포인트에서 로드된 그대로 유지됩니다. \"total\"은 사용자가 제공한 값으로 증가하며, 이는 추가 기능에 의해 감소(즉, 기존 값을 업데이트하는 데 사용됨)됩니다.\n",
    "4. 네 번째 실행에서는 새로운 스레드 ID를 사용하고 있으며, 체크포인트를 찾을 수 없기 때문에 결과는 사용자가 제공한 \"total\"에 1을 더한 값이 됩니다."
   ]
  },
  {
   "cell_type": "code",
   "execution_count": 24,
   "id": "66ca1086-1a19-4692-a0b6-4137c1eb2897",
   "metadata": {},
   "outputs": [],
   "source": [
    "graph = builder.compile()\n",
    "result = graph.invoke({\"total\": 1, \"turn\": \"First Turn\"})\n",
    "result2 = graph.invoke({**result, \"turn\": \"Next Turn\"})\n",
    "result3 = graph.invoke({**result2, \"total\": result2[\"total\"] + 5})\n",
    "result4 = graph.invoke({\"total\": 5})"
   ]
  },
  {
   "cell_type": "code",
   "execution_count": 25,
   "id": "4a64dcd1-6a39-4a53-bb7c-0131b4b6aa1a",
   "metadata": {},
   "outputs": [
    {
     "data": {
      "text/plain": [
       "{'total': 2, 'turn': 'First Turn'}"
      ]
     },
     "execution_count": 25,
     "metadata": {},
     "output_type": "execute_result"
    }
   ],
   "source": [
    "result"
   ]
  },
  {
   "cell_type": "code",
   "execution_count": 26,
   "id": "d2003bec-855c-4099-addc-78454979014f",
   "metadata": {},
   "outputs": [
    {
     "data": {
      "text/plain": [
       "{'total': 3, 'turn': 'Next Turn'}"
      ]
     },
     "execution_count": 26,
     "metadata": {},
     "output_type": "execute_result"
    }
   ],
   "source": [
    "result2"
   ]
  },
  {
   "cell_type": "code",
   "execution_count": 27,
   "id": "8c0d6b59-824b-4273-80e6-b25ad9378508",
   "metadata": {},
   "outputs": [
    {
     "data": {
      "text/plain": [
       "{'total': 9, 'turn': 'Next Turn'}"
      ]
     },
     "execution_count": 27,
     "metadata": {},
     "output_type": "execute_result"
    }
   ],
   "source": [
    "result3"
   ]
  },
  {
   "cell_type": "code",
   "execution_count": 28,
   "id": "dbc8479b-8062-4877-a96b-2f9d4e63fa98",
   "metadata": {},
   "outputs": [
    {
     "data": {
      "text/plain": [
       "{'total': 6}"
      ]
     },
     "execution_count": 28,
     "metadata": {},
     "output_type": "execute_result"
    }
   ],
   "source": [
    "result4"
   ]
  },
  {
   "cell_type": "code",
   "execution_count": null,
   "id": "64ec1ad8-d01c-4fcc-be5e-649ab597c349",
   "metadata": {},
   "outputs": [],
   "source": []
  },
  {
   "cell_type": "code",
   "execution_count": null,
   "id": "19251458-88cb-491b-9221-4d09c946ca46",
   "metadata": {},
   "outputs": [],
   "source": []
  }
 ],
 "metadata": {
  "kernelspec": {
   "display_name": "Python 3 (ipykernel)",
   "language": "python",
   "name": "python3"
  },
  "language_info": {
   "codemirror_mode": {
    "name": "ipython",
    "version": 3
   },
   "file_extension": ".py",
   "mimetype": "text/x-python",
   "name": "python",
   "nbconvert_exporter": "python",
   "pygments_lexer": "ipython3",
   "version": "3.11.9"
  }
 },
 "nbformat": 4,
 "nbformat_minor": 5
}
